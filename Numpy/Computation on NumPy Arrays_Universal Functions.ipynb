{
 "cells": [
  {
   "cell_type": "markdown",
   "id": "d7c2ef45",
   "metadata": {},
   "source": [
    "# The Slowness of Loops "
   ]
  },
  {
   "cell_type": "code",
   "execution_count": 4,
   "id": "07abc1a5",
   "metadata": {},
   "outputs": [
    {
     "name": "stdout",
     "output_type": "stream",
     "text": [
      "[0.16666667 1.         0.25       0.25       0.125     ]\n"
     ]
    }
   ],
   "source": [
    "import numpy as np\n",
    "np.random.seed(0)\n",
    "\n",
    "def compute_reciprocals(values):\n",
    "    output = np.empty(len(values))\n",
    "    #print(output)\n",
    "    for i in range(len(values)):\n",
    "        output[i] = 1.0 / values[i]\n",
    "    return output\n",
    "    \n",
    "values = np.random.randint(1, 10, size=5)\n",
    "print(compute_reciprocals(values))"
   ]
  },
  {
   "cell_type": "markdown",
   "id": "464267e0",
   "metadata": {},
   "source": [
    "# Introducing UFuncs"
   ]
  },
  {
   "cell_type": "code",
   "execution_count": 3,
   "id": "f456adba",
   "metadata": {},
   "outputs": [
    {
     "name": "stdout",
     "output_type": "stream",
     "text": [
      "[0.16666667 1.         0.25       0.25       0.125     ]\n"
     ]
    }
   ],
   "source": [
    "#performing an operation on the array, which will\n",
    "#then be applied to each element.\n",
    "print(1.0 / values)"
   ]
  },
  {
   "cell_type": "code",
   "execution_count": 6,
   "id": "51489d6e",
   "metadata": {},
   "outputs": [
    {
     "data": {
      "text/plain": [
       "array([0.        , 0.5       , 0.66666667, 0.75      , 0.8       ])"
      ]
     },
     "execution_count": 6,
     "metadata": {},
     "output_type": "execute_result"
    }
   ],
   "source": [
    "np.arange(5)/np.arange(1,6)"
   ]
  },
  {
   "cell_type": "code",
   "execution_count": 7,
   "id": "884de149",
   "metadata": {},
   "outputs": [
    {
     "data": {
      "text/plain": [
       "array([[  1,   2,   4],\n",
       "       [  8,  16,  32],\n",
       "       [ 64, 128, 256]])"
      ]
     },
     "execution_count": 7,
     "metadata": {},
     "output_type": "execute_result"
    }
   ],
   "source": [
    "x = np.arange(9).reshape((3, 3))\n",
    "2 ** x"
   ]
  },
  {
   "cell_type": "markdown",
   "id": "936d5226",
   "metadata": {},
   "source": [
    "# Exploring NumPy’s UFuncs"
   ]
  },
  {
   "cell_type": "code",
   "execution_count": 8,
   "id": "f6e9507d",
   "metadata": {},
   "outputs": [
    {
     "name": "stdout",
     "output_type": "stream",
     "text": [
      "x = [0 1 2 3]\n",
      "x + 5 = [5 6 7 8]\n",
      "x - 5 = [-5 -4 -3 -2]\n",
      "x * 2 = [0 2 4 6]\n",
      "x / 2 = [0.  0.5 1.  1.5]\n",
      "x // 2 = [0 0 1 1]\n"
     ]
    }
   ],
   "source": [
    "#Array arithmetic\n",
    "x = np.arange(4)\n",
    "print(\"x =\", x)\n",
    "print(\"x + 5 =\", x + 5)\n",
    "print(\"x - 5 =\", x - 5)\n",
    "print(\"x * 2 =\", x * 2)\n",
    "print(\"x / 2 =\", x / 2)\n",
    "print(\"x // 2 =\", x // 2)"
   ]
  },
  {
   "cell_type": "code",
   "execution_count": 9,
   "id": "a4c1b6e6",
   "metadata": {},
   "outputs": [
    {
     "name": "stdout",
     "output_type": "stream",
     "text": [
      "-x =  [ 0 -1 -2 -3]\n",
      "x ** 2 =  [0 1 4 9]\n",
      "x % 2 =  [0 1 0 1]\n"
     ]
    }
   ],
   "source": [
    " print(\"-x = \", -x)\n",
    "print(\"x ** 2 = \", x ** 2)\n",
    "print(\"x % 2 = \", x % 2)"
   ]
  },
  {
   "cell_type": "code",
   "execution_count": 11,
   "id": "f28d6eb9",
   "metadata": {},
   "outputs": [
    {
     "data": {
      "text/plain": [
       "array([-1.  , -2.25, -4.  , -6.25])"
      ]
     },
     "execution_count": 11,
     "metadata": {},
     "output_type": "execute_result"
    }
   ],
   "source": [
    "-(0.5*x + 1) ** 2"
   ]
  },
  {
   "cell_type": "code",
   "execution_count": 12,
   "id": "b7bef379",
   "metadata": {},
   "outputs": [
    {
     "data": {
      "text/plain": [
       "array([0, 1, 2, 3])"
      ]
     },
     "execution_count": 12,
     "metadata": {},
     "output_type": "execute_result"
    }
   ],
   "source": [
    "#Absolute value\n",
    "abs(x)"
   ]
  },
  {
   "cell_type": "code",
   "execution_count": 15,
   "id": "74eeebaf",
   "metadata": {},
   "outputs": [
    {
     "data": {
      "text/plain": [
       "array([0.        , 1.57079633, 3.14159265])"
      ]
     },
     "execution_count": 15,
     "metadata": {},
     "output_type": "execute_result"
    }
   ],
   "source": [
    "#Trigonometric functions\n",
    "theta = np.linspace(0, np.pi, 3)\n",
    "theta"
   ]
  },
  {
   "cell_type": "code",
   "execution_count": 16,
   "id": "c21d48ee",
   "metadata": {},
   "outputs": [
    {
     "name": "stdout",
     "output_type": "stream",
     "text": [
      "sin(theta) =  [0.0000000e+00 1.0000000e+00 1.2246468e-16]\n",
      "cos(theta) =  [ 1.000000e+00  6.123234e-17 -1.000000e+00]\n",
      "tan(theta) =  [ 0.00000000e+00  1.63312394e+16 -1.22464680e-16]\n"
     ]
    }
   ],
   "source": [
    "print(\"sin(theta) = \", np.sin(theta))\n",
    "print(\"cos(theta) = \", np.cos(theta))\n",
    "print(\"tan(theta) = \", np.tan(theta))"
   ]
  },
  {
   "cell_type": "code",
   "execution_count": 23,
   "id": "5d36f9ef",
   "metadata": {},
   "outputs": [
    {
     "name": "stdout",
     "output_type": "stream",
     "text": [
      "e^x: [ 2.71828183  7.3890561  20.08553692]\n",
      "2^x: [2. 4. 8.]\n",
      "3^x: [ 3  9 27]\n"
     ]
    }
   ],
   "source": [
    "#Exponents and logarithms\n",
    "x = [1,2,3]\n",
    "print(\"e^x:\",np.exp(x))\n",
    "print(\"2^x:\",np.exp2(x))\n",
    "print(\"3^x:\",np.power(3,x))"
   ]
  },
  {
   "cell_type": "code",
   "execution_count": 25,
   "id": "e4cba383",
   "metadata": {},
   "outputs": [
    {
     "name": "stdout",
     "output_type": "stream",
     "text": [
      "x= [1, 2, 4, 10]\n",
      "ln(x) = [0.         0.69314718 1.38629436 2.30258509]\n",
      "log2(x) = [0.         1.         2.         3.32192809]\n",
      "log10(x) = [0.         0.30103    0.60205999 1.        ]\n"
     ]
    }
   ],
   "source": [
    "x = [1, 2, 4, 10]\n",
    "print(\"x=\", x)\n",
    "print(\"ln(x) =\", np.log(x))\n",
    "print(\"log2(x) =\", np.log2(x))\n",
    "print(\"log10(x) =\", np.log10(x))"
   ]
  },
  {
   "cell_type": "code",
   "execution_count": 27,
   "id": "80f6804b",
   "metadata": {},
   "outputs": [],
   "source": [
    "#Specialized ufuncs\n",
    "from scipy import special"
   ]
  },
  {
   "cell_type": "markdown",
   "id": "a4ae9c02",
   "metadata": {},
   "source": [
    "# Advanced Ufunc Features"
   ]
  },
  {
   "cell_type": "code",
   "execution_count": 28,
   "id": "43c345ff",
   "metadata": {},
   "outputs": [
    {
     "name": "stdout",
     "output_type": "stream",
     "text": [
      "[ 0. 10. 20. 30. 40.]\n"
     ]
    }
   ],
   "source": [
    "#Specifying output\n",
    "x = np.arange(5)\n",
    "y = np.empty(5)\n",
    "np.multiply(x,10,out=y)\n",
    "print(y)"
   ]
  },
  {
   "cell_type": "code",
   "execution_count": 29,
   "id": "1477d129",
   "metadata": {},
   "outputs": [
    {
     "name": "stdout",
     "output_type": "stream",
     "text": [
      "[ 1.  0.  2.  0.  4.  0.  8.  0. 16.  0.]\n"
     ]
    }
   ],
   "source": [
    "y = np.zeros(10)\n",
    "np.power(2, x, out=y[::2])\n",
    "print(y)"
   ]
  },
  {
   "cell_type": "code",
   "execution_count": 31,
   "id": "f78ff71e",
   "metadata": {},
   "outputs": [
    {
     "data": {
      "text/plain": [
       "15"
      ]
     },
     "execution_count": 31,
     "metadata": {},
     "output_type": "execute_result"
    }
   ],
   "source": [
    "#Aggregates\n",
    "x = np.arange(1,6)\n",
    "np.add.reduce(x)"
   ]
  },
  {
   "cell_type": "code",
   "execution_count": 32,
   "id": "2d7911fb",
   "metadata": {},
   "outputs": [
    {
     "data": {
      "text/plain": [
       "120"
      ]
     },
     "execution_count": 32,
     "metadata": {},
     "output_type": "execute_result"
    }
   ],
   "source": [
    "np.multiply.reduce(x)"
   ]
  },
  {
   "cell_type": "code",
   "execution_count": 33,
   "id": "2a6f80d9",
   "metadata": {},
   "outputs": [
    {
     "data": {
      "text/plain": [
       "array([ 1,  3,  6, 10, 15])"
      ]
     },
     "execution_count": 33,
     "metadata": {},
     "output_type": "execute_result"
    }
   ],
   "source": [
    "np.add.accumulate(x)"
   ]
  },
  {
   "cell_type": "code",
   "execution_count": 34,
   "id": "2ba0e86e",
   "metadata": {},
   "outputs": [
    {
     "data": {
      "text/plain": [
       "array([[ 1,  2,  3,  4,  5],\n",
       "       [ 2,  4,  6,  8, 10],\n",
       "       [ 3,  6,  9, 12, 15],\n",
       "       [ 4,  8, 12, 16, 20],\n",
       "       [ 5, 10, 15, 20, 25]])"
      ]
     },
     "execution_count": 34,
     "metadata": {},
     "output_type": "execute_result"
    }
   ],
   "source": [
    "x = np.arange(1, 6)\n",
    "np.multiply.outer(x, x)"
   ]
  },
  {
   "cell_type": "code",
   "execution_count": null,
   "id": "b43a42d9",
   "metadata": {},
   "outputs": [],
   "source": []
  }
 ],
 "metadata": {
  "kernelspec": {
   "display_name": "Python 3 (ipykernel)",
   "language": "python",
   "name": "python3"
  },
  "language_info": {
   "codemirror_mode": {
    "name": "ipython",
    "version": 3
   },
   "file_extension": ".py",
   "mimetype": "text/x-python",
   "name": "python",
   "nbconvert_exporter": "python",
   "pygments_lexer": "ipython3",
   "version": "3.10.6"
  }
 },
 "nbformat": 4,
 "nbformat_minor": 5
}
