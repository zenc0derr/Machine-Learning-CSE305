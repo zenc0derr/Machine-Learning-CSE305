{
 "cells": [
  {
   "cell_type": "markdown",
   "metadata": {
    "id": "chcMMiJKcqyJ"
   },
   "source": [
    "# **19CSE305: MACHINE LEARNING LAB 2**"
   ]
  },
  {
   "cell_type": "markdown",
   "metadata": {
    "id": "0Q-TStVVdFaA"
   },
   "source": [
    "ROLL NUMBER: CB.EN.U4CSE20366"
   ]
  },
  {
   "cell_type": "markdown",
   "metadata": {
    "id": "-7EeRdSAGbw3"
   },
   "source": [
    "## Python Basic Exercises\n",
    "\n",
    "1. Get the values P,t,R from user and calculate compound interest. Formula to calculate compound interest annually is given by: \n",
    "        A = P(1+R/100)*t\n",
    "        CI = A – P\n",
    "        Input : Principle, Time, Rate\n",
    "        Output : Compound Interest\n",
    "2. Given a list of strings (Entered by the user), write program to get a percentage share of each word in the strings list.\n",
    "        percentage = (Occurrence of a word / Total words) * 100\n",
    "3. Check if  the binary representation of a number is Palindrome or not. Given an integer ‘n’ (entered by the user), write a Python function that returns true if binary representation of 'x' is palindrome and false if not.\n",
    "4. Write a program to check if all digits of a number divide it. Given a number n (entered by the user), find whether all digits of n divide it or not.\n",
    "5. Given a list of numbers (entered by the user), write a program to find the second largest number in that list.\n",
    "        Input: [1, 2, 3, 4 ,5]\n",
    "        Output: 4"
   ]
  },
  {
   "cell_type": "markdown",
   "metadata": {},
   "source": [
    "# Answers:"
   ]
  },
  {
   "cell_type": "code",
   "execution_count": 2,
   "metadata": {},
   "outputs": [
    {
     "name": "stdout",
     "output_type": "stream",
     "text": [
      "Enter the Interest: 100\n",
      "Enter the Time: 100\n",
      "Enter the Rate: 100\n",
      "Compound Interest:  19900.0\n"
     ]
    }
   ],
   "source": [
    "#1\n",
    "P = int(input(\"Enter the Interest: \"))\n",
    "T = int(input(\"Enter the Time: \"))\n",
    "R = int(input(\"Enter the Rate: \"))\n",
    "\n",
    "A = P*(1+(R/100))*T\n",
    "\n",
    "print(\"Compound Interest: \",A-P)"
   ]
  },
  {
   "cell_type": "code",
   "execution_count": null,
   "metadata": {},
   "outputs": [],
   "source": []
  },
  {
   "cell_type": "markdown",
   "metadata": {
    "id": "Q3Ba9vORIPW4"
   },
   "source": [
    "## Numpy Basic Exercises\n",
    "\n",
    "1. Create a 3D array of shape 4*5*2 that contains random decimal numbers between 1 and 10.\n",
    "2. Create a randomly created 1D array and Convert it to a 2D array with 2 rows.\n",
    "3. Given a NumPy array of temperature values, convert the values of Centigrade degrees into Fahrenheit degrees. \n",
    "4. Write a NumPy program to count the number of dimensions, number of elements and number of bytes for each element in a given array.\n",
    "5. Write a NumPy program to extract third and second elements of the first and second rows from a given (3x4) array"
   ]
  }
 ],
 "metadata": {
  "colab": {
   "collapsed_sections": [],
   "provenance": [],
   "toc_visible": true
  },
  "kernelspec": {
   "display_name": "Python 3 (ipykernel)",
   "language": "python",
   "name": "python3"
  },
  "language_info": {
   "codemirror_mode": {
    "name": "ipython",
    "version": 3
   },
   "file_extension": ".py",
   "mimetype": "text/x-python",
   "name": "python",
   "nbconvert_exporter": "python",
   "pygments_lexer": "ipython3",
   "version": "3.10.4"
  },
  "vscode": {
   "interpreter": {
    "hash": "31f2aee4e71d21fbe5cf8b01ff0e069b9275f58929596ceb00d14d90e3e16cd6"
   }
  }
 },
 "nbformat": 4,
 "nbformat_minor": 1
}
