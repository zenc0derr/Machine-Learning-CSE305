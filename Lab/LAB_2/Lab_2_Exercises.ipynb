{
  "cells": [
    {
      "cell_type": "markdown",
      "metadata": {
        "id": "chcMMiJKcqyJ"
      },
      "source": [
        "# **19CSE305: MACHINE LEARNING LAB 2**"
      ]
    },
    {
      "cell_type": "markdown",
      "metadata": {
        "id": "0Q-TStVVdFaA"
      },
      "source": [
        "ROLL NUMBER: CB.EN.U4CSE20366"
      ]
    },
    {
      "cell_type": "markdown",
      "metadata": {
        "id": "-7EeRdSAGbw3"
      },
      "source": [
        "## Python Basic Exercises\n",
        "\n",
        "1. Get the values P,t,R from user and calculate compound interest. Formula to calculate compound interest annually is given by: \n",
        "        A = P(1+R/100)*t\n",
        "        CI = A – P\n",
        "        Input : Principle, Time, Rate\n",
        "        Output : Compound Interest\n",
        "2. Given a list of strings (Entered by the user), write program to get a percentage share of each word in the strings list.\n",
        "        percentage = (Occurrence of a word / Total words) * 100\n",
        "3. Check if  the binary representation of a number is Palindrome or not. Given an integer ‘n’ (entered by the user), write a Python function that returns true if binary representation of 'x' is palindrome and false if not.\n",
        "4. Write a program to check if all digits of a number divide it. Given a number n (entered by the user), find whether all digits of n divide it or not.\n",
        "5. Given a list of numbers (entered by the user), write a program to find the second largest number in that list.\n",
        "        Input: [1, 2, 3, 4 ,5]\n",
        "        Output: 4"
      ]
    },
    {
      "cell_type": "markdown",
      "metadata": {
        "id": "xNrfmPQQlQrr"
      },
      "source": [
        "# Answers:"
      ]
    },
    {
      "cell_type": "code",
      "execution_count": null,
      "metadata": {
        "id": "ke0FksAClQrs",
        "outputId": "21c185fd-a275-4f1f-c156-167ced47f2bf"
      },
      "outputs": [
        {
          "name": "stdout",
          "output_type": "stream",
          "text": [
            "Enter the Interest: 100\n",
            "Enter the Time: 100\n",
            "Enter the Rate: 100\n",
            "Compound Interest:  19900.0\n"
          ]
        }
      ],
      "source": [
        "#1\n",
        "P = int(input(\"Enter the Interest: \"))\n",
        "T = int(input(\"Enter the Time: \"))\n",
        "R = int(input(\"Enter the Rate: \"))\n",
        "\n",
        "A = P*(1+(R/100))*T\n",
        "\n",
        "print(\"Compound Interest: \",A-P)"
      ]
    },
    {
      "cell_type": "code",
      "execution_count": 11,
      "metadata": {
        "colab": {
          "base_uri": "https://localhost:8080/"
        },
        "id": "2ZZ7lJZklQru",
        "outputId": "511c27b5-59f3-49c8-e341-b6198c303485"
      },
      "outputs": [
        {
          "output_type": "stream",
          "name": "stdout",
          "text": [
            "Enter String: Tejesh Kumar S\n",
            "Do y want to continue:(Y/N)Y\n",
            "Enter String: Tejesh\n",
            "Do y want to continue:(Y/N)N\n",
            "Percentage of the word  Tejesh is:  50.0\n",
            "Percentage of the word  Kumar is:  25.0\n",
            "Percentage of the word  S is:  25.0\n"
          ]
        }
      ],
      "source": [
        "#2\n",
        "import re\n",
        "string = \"\"\n",
        "while(True):\n",
        "  string += input(\"Enter String: \")\n",
        "  string += \" \"\n",
        "  ch = input(\"Do y want to continue:(Y/N)\")\n",
        "  if(not(ch == \"Y\" or ch  ==\"y\")):\n",
        "      break\n",
        "string = string.strip()\n",
        "array = re.split(r\"[ :\\-]+\", string)\n",
        "\n",
        "Words = {}\n",
        "\n",
        "for str in array:\n",
        "  if str in Words:\n",
        "    Words[str] += 1\n",
        "  else:\n",
        "    Words[str] = 1\n",
        "\n",
        "total = 0\n",
        "for str in Words:\n",
        "  total += Words[str]\n",
        "\n",
        "for str in Words:\n",
        "  percent = (Words[str]/total)*100\n",
        "  print(\"Percentage of the word \",str,\"is: \",percent)\n"
      ]
    },
    {
      "cell_type": "code",
      "execution_count": 39,
      "metadata": {
        "colab": {
          "base_uri": "https://localhost:8080/"
        },
        "id": "IXy7RdJSlQrv",
        "outputId": "a2f49dc3-a6ce-4505-ecb3-e11dba336dfe"
      },
      "outputs": [
        {
          "output_type": "stream",
          "name": "stdout",
          "text": [
            "Enter an number: 7\n",
            "Binary of the number is a palindrome\n"
          ]
        }
      ],
      "source": [
        "#3\n",
        "def checkPalindrome(num):\n",
        "  s = format(num,'b')\n",
        "  return s == s[::-1]\n",
        "\n",
        "if checkPalindrome(int(input(\"Enter an number: \"))):\n",
        "  print(\"Binary of the number is a palindrome\")\n",
        "else:\n",
        "  print(\"Binary of the number is not a palindrome\")"
      ]
    },
    {
      "cell_type": "code",
      "source": [
        "#4\n",
        "\n",
        "def main():\n",
        "  num = input(\"Enter a number: \")\n",
        "  for i in num:\n",
        "    if(int(num)%int(i)==0):\n",
        "      continue\n",
        "    else:\n",
        "      print(\"No\")\n",
        "      return\n",
        "  print(\"Yes\")\n",
        "\n",
        "\n",
        "main()\n",
        "\n"
      ],
      "metadata": {
        "colab": {
          "base_uri": "https://localhost:8080/"
        },
        "id": "I9b247OZuI96",
        "outputId": "ba1ad764-2b0c-46df-a0a0-9e26eb218722"
      },
      "execution_count": 4,
      "outputs": [
        {
          "output_type": "stream",
          "name": "stdout",
          "text": [
            "Enter a number: 23\n",
            "No\n"
          ]
        }
      ]
    },
    {
      "cell_type": "code",
      "source": [
        "#5\n",
        "list = []\n",
        "n = int(input(\"Enter the number of inputs\"))\n",
        "for i in range(0,n):\n",
        "  list.append(int(input()))\n",
        "\n",
        "list.sort()\n",
        "print(list[1])\n"
      ],
      "metadata": {
        "colab": {
          "base_uri": "https://localhost:8080/"
        },
        "id": "LRfrvXzBYpnK",
        "outputId": "8ad3a56a-9649-425d-9821-5a619c7d690c"
      },
      "execution_count": 5,
      "outputs": [
        {
          "output_type": "stream",
          "name": "stdout",
          "text": [
            "Enter the number of inputs3\n",
            "4\n",
            "10\n",
            "3\n",
            "4\n"
          ]
        }
      ]
    },
    {
      "cell_type": "markdown",
      "metadata": {
        "id": "Q3Ba9vORIPW4"
      },
      "source": [
        "## Numpy Basic Exercises\n",
        "\n",
        "1. Create a 3D array of shape 4*5*2 that contains random decimal numbers between 1 and 10.\n",
        "2. Create a randomly created 1D array and Convert it to a 2D array with 2 rows.\n",
        "3. Given a NumPy array of temperature values, convert the values of Centigrade degrees into Fahrenheit degrees. \n",
        "4. Write a NumPy program to count the number of dimensions, number of elements and number of bytes for each element in a given array.\n",
        "5. Write a NumPy program to extract third and second elements of the first and second rows from a given (3x4) array"
      ]
    },
    {
      "cell_type": "markdown",
      "source": [
        "# Answers"
      ],
      "metadata": {
        "id": "kAgBj8Psqpal"
      }
    },
    {
      "cell_type": "code",
      "source": [
        "#1\n",
        "import numpy as np\n",
        "a = np.random.randint(2,10,(4,5,2))\n",
        "print(a)"
      ],
      "metadata": {
        "colab": {
          "base_uri": "https://localhost:8080/"
        },
        "id": "XKO44f_6qmw-",
        "outputId": "f2df8af7-d0b0-48a8-c769-63fc09deda56"
      },
      "execution_count": 16,
      "outputs": [
        {
          "output_type": "stream",
          "name": "stdout",
          "text": [
            "[[[5 4]\n",
            "  [9 6]\n",
            "  [9 7]\n",
            "  [5 5]\n",
            "  [5 9]]\n",
            "\n",
            " [[8 5]\n",
            "  [7 9]\n",
            "  [7 5]\n",
            "  [7 9]\n",
            "  [4 6]]\n",
            "\n",
            " [[3 2]\n",
            "  [2 5]\n",
            "  [6 9]\n",
            "  [4 7]\n",
            "  [2 3]]\n",
            "\n",
            " [[2 6]\n",
            "  [6 4]\n",
            "  [3 9]\n",
            "  [7 8]\n",
            "  [9 6]]]\n"
          ]
        }
      ]
    },
    {
      "cell_type": "code",
      "source": [
        "#2\n",
        "b = np.random.rand(1,10)\n",
        "b = b.reshape(2,5)\n",
        "print(b)"
      ],
      "metadata": {
        "colab": {
          "base_uri": "https://localhost:8080/"
        },
        "id": "-33aM9CorPBO",
        "outputId": "a8651ca8-8dbf-40b3-d06a-c2bccd19e0b4"
      },
      "execution_count": 19,
      "outputs": [
        {
          "output_type": "stream",
          "name": "stdout",
          "text": [
            "[[0.38493598 0.27224691 0.01487867 0.83156513 0.19648383]\n",
            " [0.11245757 0.08052865 0.89035406 0.71760178 0.53946478]]\n"
          ]
        }
      ]
    },
    {
      "cell_type": "code",
      "source": [
        "#3\n",
        "celsius = np.random.randint(0,50,(1,100))\n",
        "print(celsius)\n",
        "farenheit = (9/5)*celsius + 32\n",
        "print(farenheit)"
      ],
      "metadata": {
        "colab": {
          "base_uri": "https://localhost:8080/"
        },
        "id": "z40La7f3rk4T",
        "outputId": "99355f18-ed28-4059-affa-28f7de50b857"
      },
      "execution_count": 22,
      "outputs": [
        {
          "output_type": "stream",
          "name": "stdout",
          "text": [
            "[[35 46 47 34 40 16  7 40 43  5  7 35 40 35 48 15 48 22 42 19 34 27 42 24\n",
            "   6 19 40 14 47 38 18 37 32 18 22 23 26 12 21  7 16 30 35 46  1 41 31  2\n",
            "  36 33 34 16 16 45 12  0 43 24 44 27 24  6  0 37  2 32 32 26 42 12 48 38\n",
            "  22 29  7  0 37  7 36 44 23 36  5 26 24  0  0 35 45 33 23 37 26 34 33  0\n",
            "   9 40  4  7]]\n",
            "[[ 95.  114.8 116.6  93.2 104.   60.8  44.6 104.  109.4  41.   44.6  95.\n",
            "  104.   95.  118.4  59.  118.4  71.6 107.6  66.2  93.2  80.6 107.6  75.2\n",
            "   42.8  66.2 104.   57.2 116.6 100.4  64.4  98.6  89.6  64.4  71.6  73.4\n",
            "   78.8  53.6  69.8  44.6  60.8  86.   95.  114.8  33.8 105.8  87.8  35.6\n",
            "   96.8  91.4  93.2  60.8  60.8 113.   53.6  32.  109.4  75.2 111.2  80.6\n",
            "   75.2  42.8  32.   98.6  35.6  89.6  89.6  78.8 107.6  53.6 118.4 100.4\n",
            "   71.6  84.2  44.6  32.   98.6  44.6  96.8 111.2  73.4  96.8  41.   78.8\n",
            "   75.2  32.   32.   95.  113.   91.4  73.4  98.6  78.8  93.2  91.4  32.\n",
            "   48.2 104.   39.2  44.6]]\n"
          ]
        }
      ]
    },
    {
      "cell_type": "code",
      "source": [
        "#4\n",
        "a = np.random.randint(1,10,(2,3,3))\n",
        "print(a)\n",
        "print(\"Arrays Dimension: \",a.ndim)\n",
        "print(\"No of elements int the array: \",a.size)\n",
        "print(\"Byte of an element in the array: \",a.itemsize)\n"
      ],
      "metadata": {
        "colab": {
          "base_uri": "https://localhost:8080/"
        },
        "id": "kzebwGYKsIp0",
        "outputId": "c4c2009a-73ac-4a6a-bccb-7dc561682b77"
      },
      "execution_count": 28,
      "outputs": [
        {
          "output_type": "stream",
          "name": "stdout",
          "text": [
            "[[[7 6 1]\n",
            "  [2 5 3]\n",
            "  [5 4 6]]\n",
            "\n",
            " [[8 3 7]\n",
            "  [4 6 5]\n",
            "  [4 2 8]]]\n",
            "Arrays Dimension:  3\n",
            "No of elements int the array:  18\n",
            "Byte of an element in the array:  8\n"
          ]
        }
      ]
    },
    {
      "cell_type": "code",
      "source": [
        "#5\n",
        "a = np.random.randint(1,10,(3,4))\n",
        "print(a)\n",
        "print(a[0:2,1:3])"
      ],
      "metadata": {
        "colab": {
          "base_uri": "https://localhost:8080/"
        },
        "id": "TGb4Q-3BtnEX",
        "outputId": "f1ee7c9e-1bf8-4f97-8e83-7d1052b18ce0"
      },
      "execution_count": 32,
      "outputs": [
        {
          "output_type": "stream",
          "name": "stdout",
          "text": [
            "[[3 5 9 3]\n",
            " [1 4 1 5]\n",
            " [3 1 5 6]]\n",
            "[[5 9]\n",
            " [4 1]]\n"
          ]
        }
      ]
    }
  ],
  "metadata": {
    "colab": {
      "collapsed_sections": [],
      "provenance": [],
      "toc_visible": true
    },
    "kernelspec": {
      "display_name": "Python 3 (ipykernel)",
      "language": "python",
      "name": "python3"
    },
    "language_info": {
      "codemirror_mode": {
        "name": "ipython",
        "version": 3
      },
      "file_extension": ".py",
      "mimetype": "text/x-python",
      "name": "python",
      "nbconvert_exporter": "python",
      "pygments_lexer": "ipython3",
      "version": "3.10.4"
    },
    "vscode": {
      "interpreter": {
        "hash": "31f2aee4e71d21fbe5cf8b01ff0e069b9275f58929596ceb00d14d90e3e16cd6"
      }
    }
  },
  "nbformat": 4,
  "nbformat_minor": 0
}