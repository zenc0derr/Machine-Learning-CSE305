{
  "nbformat": 4,
  "nbformat_minor": 0,
  "metadata": {
    "colab": {
      "provenance": [],
      "collapsed_sections": [
        "Lp8RVDWpgz91",
        "ikSAcv3pjdTN",
        "YAIxH9BtjlP6",
        "ZxLMYJxkmZvi",
        "STrFI1zimxhb",
        "2L3KJWJQnhw9",
        "pLlQNfaYoa7x",
        "iMiBUXa53hDo"
      ],
      "authorship_tag": "ABX9TyPsUML6f3vzYeutniQLajYt",
      "include_colab_link": true
    },
    "kernelspec": {
      "name": "python3",
      "display_name": "Python 3"
    },
    "language_info": {
      "name": "python"
    }
  },
  "cells": [
    {
      "cell_type": "markdown",
      "metadata": {
        "id": "view-in-github",
        "colab_type": "text"
      },
      "source": [
        "<a href=\"https://colab.research.google.com/github/zenc0derr/Machine-Learning-CSE305/blob/main/Lab_1.ipynb\" target=\"_parent\"><img src=\"https://colab.research.google.com/assets/colab-badge.svg\" alt=\"Open In Colab\"/></a>"
      ]
    },
    {
      "cell_type": "markdown",
      "source": [
        "#Python Basics"
      ],
      "metadata": {
        "id": "Lp8RVDWpgz91"
      }
    },
    {
      "cell_type": "code",
      "source": [
        "print(\"Sujith\")"
      ],
      "metadata": {
        "colab": {
          "base_uri": "https://localhost:8080/"
        },
        "id": "81ikkbXxg7ZA",
        "outputId": "2046779f-8295-4ead-d51f-3213f54dedeb"
      },
      "execution_count": null,
      "outputs": [
        {
          "output_type": "stream",
          "name": "stdout",
          "text": [
            "Sujith\n"
          ]
        }
      ]
    },
    {
      "cell_type": "code",
      "source": [
        "print (2+3)\n",
        "a=20\n",
        "print (a)\n",
        "print(type(a))\n",
        "a=\"hello\"\n",
        "print (len(a))"
      ],
      "metadata": {
        "colab": {
          "base_uri": "https://localhost:8080/"
        },
        "id": "_fVVwRsxhEDz",
        "outputId": "1dfd4c1a-43e1-4622-9d2b-33109115c4d5"
      },
      "execution_count": null,
      "outputs": [
        {
          "output_type": "stream",
          "name": "stdout",
          "text": [
            "5\n",
            "20\n",
            "<class 'int'>\n",
            "5\n"
          ]
        }
      ]
    },
    {
      "cell_type": "code",
      "source": [
        "x = 3\n",
        "print (type(x)) # Prints \"<type 'int'>\"\n",
        "print (x)\n",
        " # Prints \"3\"\n",
        "print (x + 1 ) # Addition; prints \"4\"\n",
        "print (x - 1 ) # Subtraction; prints \"2\"\n",
        "print (x * 2)\n",
        " # Multiplication; prints \"6\"\n",
        "print (x ** 2) # Exponentiation; prints \"9\"\n",
        "x += 1\n",
        "print (x) # Prints \"4\"\n",
        "x *= 2\n",
        "print (x ) # Prints \"8\"\n",
        "y = 2.5\n",
        "print (type(y)) # Prints \"<type 'float'>\"\n",
        "print (y, y + 1, y * 2, y ** 2)"
      ],
      "metadata": {
        "colab": {
          "base_uri": "https://localhost:8080/"
        },
        "id": "98URup5rhMU2",
        "outputId": "abe08076-e8cc-4a3c-8328-26881a28879e"
      },
      "execution_count": null,
      "outputs": [
        {
          "output_type": "stream",
          "name": "stdout",
          "text": [
            "<class 'int'>\n",
            "3\n",
            "4\n",
            "2\n",
            "6\n",
            "9\n",
            "4\n",
            "8\n",
            "<class 'float'>\n",
            "2.5 3.5 5.0 6.25\n"
          ]
        }
      ]
    },
    {
      "cell_type": "code",
      "source": [
        "s = \"hello\"\n",
        "print (s.capitalize())\n",
        "print (s.upper())\n",
        " # Convert a string to uppercase; prints \"HELLO\"\n",
        "print (s.ljust(7,'*'))\n",
        " # Right-justify a string, padding with spaces; prints \" hello\"\n",
        "print (s.center(7,\"*\"))\n",
        " # Center a string, padding with spaces; prints \" hello \"\n",
        "print (s.replace('l', '(ell)')) # Replace all instances of one substring with another;\n",
        "# prints \"he(ell)(ell)o\"\n",
        "print( ' world  '.strip()) # Strip leading and trailing whitespace; prints \"world\""
      ],
      "metadata": {
        "colab": {
          "base_uri": "https://localhost:8080/"
        },
        "id": "Nm7LdB-zhp-2",
        "outputId": "bdb22259-e45b-4a51-ec9e-f99427712537"
      },
      "execution_count": null,
      "outputs": [
        {
          "output_type": "stream",
          "name": "stdout",
          "text": [
            "Hello\n",
            "HELLO\n",
            "hello**\n",
            "*hello*\n",
            "he(ell)(ell)o\n",
            "world\n"
          ]
        }
      ]
    },
    {
      "cell_type": "code",
      "source": [
        "a=\"JKLM\"\n",
        "for i in a:\n",
        "  print(i+\"ack\")"
      ],
      "metadata": {
        "colab": {
          "base_uri": "https://localhost:8080/"
        },
        "id": "98E5KnVDiiwk",
        "outputId": "5c5c2020-7d86-4eec-ed0c-df517cb20d75"
      },
      "execution_count": null,
      "outputs": [
        {
          "output_type": "stream",
          "name": "stdout",
          "text": [
            "Jack\n",
            "Kack\n",
            "Lack\n",
            "Mack\n"
          ]
        }
      ]
    },
    {
      "cell_type": "markdown",
      "source": [
        "# Reading Input"
      ],
      "metadata": {
        "id": "ikSAcv3pjdTN"
      }
    },
    {
      "cell_type": "code",
      "source": [
        "a=int(input(\"Enter a number: \")) #Read input from user\n",
        "#Condition\n",
        "if a>10:\n",
        "  print (\"Number is greater than 10\")\n",
        "else:\n",
        "  print (\"Number is less than 10\")"
      ],
      "metadata": {
        "colab": {
          "base_uri": "https://localhost:8080/"
        },
        "id": "HUt6AHNsimW0",
        "outputId": "1cee433e-9dd4-4ca7-f7e8-323a4b985f0a"
      },
      "execution_count": null,
      "outputs": [
        {
          "output_type": "stream",
          "name": "stdout",
          "text": [
            "Enter a number: 100\n",
            "Number is greater than 10\n"
          ]
        }
      ]
    },
    {
      "cell_type": "code",
      "source": [
        "a=10\n",
        "if a>5:\n",
        "  print (\"a>5\")\n",
        "elif a>4:\n",
        "  print(\"a>4\")\n",
        "else:\n",
        "  print (\"Not matching\")\n",
        "range(10)\n",
        "for i in range(10):\n",
        "  print (i)"
      ],
      "metadata": {
        "colab": {
          "base_uri": "https://localhost:8080/"
        },
        "id": "FzlDW-ZTjBeM",
        "outputId": "7abf46aa-1c04-4ba5-848d-96890d655d7f"
      },
      "execution_count": null,
      "outputs": [
        {
          "output_type": "stream",
          "name": "stdout",
          "text": [
            "a>5\n",
            "0\n",
            "1\n",
            "2\n",
            "3\n",
            "4\n",
            "5\n",
            "6\n",
            "7\n",
            "8\n",
            "9\n"
          ]
        }
      ]
    },
    {
      "cell_type": "markdown",
      "source": [
        "# Functions"
      ],
      "metadata": {
        "id": "YAIxH9BtjlP6"
      }
    },
    {
      "cell_type": "code",
      "source": [
        "def my_fun(x,y):\n",
        "  print(x+y)\n",
        "my_fun(10,20)\n",
        "my_fun(\"10\",\"20\")"
      ],
      "metadata": {
        "colab": {
          "base_uri": "https://localhost:8080/"
        },
        "id": "6kENa7bajkqv",
        "outputId": "e7b4efe0-a132-461f-e883-c68027ecc66e"
      },
      "execution_count": null,
      "outputs": [
        {
          "output_type": "stream",
          "name": "stdout",
          "text": [
            "30\n",
            "1020\n"
          ]
        }
      ]
    },
    {
      "cell_type": "code",
      "source": [
        "a=[] #Null list\n",
        "a=[1,2,3,4.5,\"Hello\",\"50\"]#is a list\n",
        "print (type(a))\n",
        "print (len(a))\n",
        "print( a[0])\n",
        "print (a[-1])\n",
        "print (a[2:5])\n",
        "a.append(100) #add new element at the end of list\n",
        "print (a)\n",
        "a.remove(2)#Remove second element"
      ],
      "metadata": {
        "colab": {
          "base_uri": "https://localhost:8080/"
        },
        "id": "UhPnCgxJkfO-",
        "outputId": "51bfa5a6-1ba9-4a79-ae21-958743c877c9"
      },
      "execution_count": null,
      "outputs": [
        {
          "output_type": "stream",
          "name": "stdout",
          "text": [
            "<class 'list'>\n",
            "6\n",
            "1\n",
            "50\n",
            "[3, 4.5, 'Hello']\n",
            "[1, 2, 3, 4.5, 'Hello', '50', 100]\n"
          ]
        }
      ]
    },
    {
      "cell_type": "code",
      "source": [
        "a.append(\"append value\")\n",
        "print (a)\n",
        "a.insert(3,\"insert value\")\n",
        "print (a)"
      ],
      "metadata": {
        "colab": {
          "base_uri": "https://localhost:8080/"
        },
        "id": "MH74q98zkv6Q",
        "outputId": "d1fe8ba6-7055-493c-c635-0cf8127384dd"
      },
      "execution_count": null,
      "outputs": [
        {
          "output_type": "stream",
          "name": "stdout",
          "text": [
            "[1, 3, 4.5, 'Hello', '50', 100, 'append value']\n",
            "[1, 3, 4.5, 'insert value', 'Hello', '50', 100, 'append value']\n"
          ]
        }
      ]
    },
    {
      "cell_type": "code",
      "source": [
        "nums = [0, 1, 2, 3, 4]\n",
        "even_squares=[]\n",
        "for x in nums:\n",
        "  if x%2==0:\n",
        "    even_squares.append(x**2)\n",
        "print( even_squares)"
      ],
      "metadata": {
        "colab": {
          "base_uri": "https://localhost:8080/"
        },
        "id": "955QbCjJkwiB",
        "outputId": "fa859062-c418-475a-a21a-e87317805dbd"
      },
      "execution_count": null,
      "outputs": [
        {
          "output_type": "stream",
          "name": "stdout",
          "text": [
            "[0, 4, 16]\n"
          ]
        }
      ]
    },
    {
      "cell_type": "code",
      "source": [
        "even_squares = [x ** 2 for x in nums if x % 2 == 0]\n",
        "print (even_squares ) # Prints \"[0, 4, 16]\""
      ],
      "metadata": {
        "colab": {
          "base_uri": "https://localhost:8080/"
        },
        "id": "q_e1acAZlPO5",
        "outputId": "7d60720b-b5fa-4dee-cbc5-37b21a72445e"
      },
      "execution_count": null,
      "outputs": [
        {
          "output_type": "stream",
          "name": "stdout",
          "text": [
            "[0, 4, 16]\n"
          ]
        }
      ]
    },
    {
      "cell_type": "code",
      "source": [
        "a=list(range(1,25))\n",
        "print(a[2:5])\n",
        "print(a[-1])\n",
        "print(a[1:5:2])\n",
        "print(a[-3:-1])\n",
        "print(a[:])\n",
        "print(a[::])\n",
        "print(a[::2])\n",
        "print(a[::-1])"
      ],
      "metadata": {
        "colab": {
          "base_uri": "https://localhost:8080/"
        },
        "id": "JoyLaaSflYGo",
        "outputId": "b707cf2b-1f40-4740-9406-433c9fba66df"
      },
      "execution_count": null,
      "outputs": [
        {
          "output_type": "stream",
          "name": "stdout",
          "text": [
            "[3, 4, 5]\n",
            "24\n",
            "[2, 4]\n",
            "[22, 23]\n",
            "[1, 2, 3, 4, 5, 6, 7, 8, 9, 10, 11, 12, 13, 14, 15, 16, 17, 18, 19, 20, 21, 22, 23, 24]\n",
            "[1, 2, 3, 4, 5, 6, 7, 8, 9, 10, 11, 12, 13, 14, 15, 16, 17, 18, 19, 20, 21, 22, 23, 24]\n",
            "[1, 3, 5, 7, 9, 11, 13, 15, 17, 19, 21, 23]\n",
            "[24, 23, 22, 21, 20, 19, 18, 17, 16, 15, 14, 13, 12, 11, 10, 9, 8, 7, 6, 5, 4, 3, 2, 1]\n"
          ]
        }
      ]
    },
    {
      "cell_type": "markdown",
      "source": [
        "# Set"
      ],
      "metadata": {
        "id": "ZxLMYJxkmZvi"
      }
    },
    {
      "cell_type": "code",
      "source": [
        "animals = {'cat', 'dog'}\n",
        "print ('cat' in animals)\n",
        " # Check if an element is in a set; prints \"True\"\n",
        "print ('fish' in animals ) # prints \"False\"\n",
        "animals.add('fish')\n",
        " # Add an element to a set\n",
        "print ('fish' in animals) # Prints \"True\"\n",
        "print (len(animals))\n",
        " # Number of elements in a set; prints \"3\"\n",
        "animals.add('cat')\n",
        "print (len(animals) )\n",
        "animals.remove('cat')\n",
        "print (len(animals) )\n",
        "# Adding an element that is already in the set does nothing\n",
        "# Prints \"3\"\n",
        "# Remove an element from a set\n",
        "# Prints \"2\""
      ],
      "metadata": {
        "colab": {
          "base_uri": "https://localhost:8080/"
        },
        "id": "KWK9ULCgl6Df",
        "outputId": "9a877827-52ad-4e98-b048-c6a1ff370fa9"
      },
      "execution_count": null,
      "outputs": [
        {
          "output_type": "stream",
          "name": "stdout",
          "text": [
            "True\n",
            "False\n",
            "True\n",
            "3\n",
            "3\n",
            "2\n"
          ]
        }
      ]
    },
    {
      "cell_type": "markdown",
      "source": [
        "# Dictionary"
      ],
      "metadata": {
        "id": "STrFI1zimxhb"
      }
    },
    {
      "cell_type": "code",
      "source": [
        "pos={}#empty dictionary\n",
        "print (type(dict))\n",
        "pos[\"Man\"]=\"Noun\"\n",
        "pos[\"Play\"]=\"Verb\"\n",
        "pos[\"Good\"]=\"Adjective\"\n",
        "pos[\"Apple\"]=\"Noun\"\n",
        "pos[\"Cricket\"]=\"Noun\"\n",
        "pos[\"Cry\"]=\"Verb\"\n",
        "print (pos)\n",
        "#Print all the nouns in the dictionary\n",
        "for w in pos:\n",
        "  if(pos[w]==\"Noun\"):\n",
        "    print (w) "
      ],
      "metadata": {
        "colab": {
          "base_uri": "https://localhost:8080/"
        },
        "id": "diDJL0KOmtzD",
        "outputId": "c29eb4d5-7f46-4508-ded7-d27dc5730593"
      },
      "execution_count": null,
      "outputs": [
        {
          "output_type": "stream",
          "name": "stdout",
          "text": [
            "<class 'type'>\n",
            "{'Man': 'Noun', 'Play': 'Verb', 'Good': 'Adjective', 'Apple': 'Noun', 'Cricket': 'Noun', 'Cry': 'Verb'}\n",
            "Man\n",
            "Apple\n",
            "Cricket\n"
          ]
        }
      ]
    },
    {
      "cell_type": "markdown",
      "source": [
        "# Tuple"
      ],
      "metadata": {
        "id": "2L3KJWJQnhw9"
      }
    },
    {
      "cell_type": "code",
      "source": [
        "d = {(x, x + 1): x for x in range(10)} # Create a dictionary with tuple keys\n",
        "t = (5, 6)\n",
        " # Create a tuple\n",
        "print (type(t))\n",
        " # Prints \"<type 'tuple'>\"\n",
        "print (d[t] )\n",
        " # Prints \"5\"\n",
        "print (d[(1, 2)]) # Prints \"1\""
      ],
      "metadata": {
        "colab": {
          "base_uri": "https://localhost:8080/"
        },
        "id": "k20UILZXnjOZ",
        "outputId": "21a59a5b-25a4-4b7d-ea66-ea228910e975"
      },
      "execution_count": null,
      "outputs": [
        {
          "output_type": "stream",
          "name": "stdout",
          "text": [
            "<class 'tuple'>\n",
            "5\n",
            "1\n"
          ]
        }
      ]
    },
    {
      "cell_type": "markdown",
      "source": [
        "# File"
      ],
      "metadata": {
        "id": "pLlQNfaYoa7x"
      }
    },
    {
      "cell_type": "code",
      "source": [
        "file=open(\"newfile.txt\",\"a\")\n",
        "print (type(file))\n",
        "a=\"\\nThis will be written to the file.\"\n",
        "file.write(a)\n",
        "file.close()"
      ],
      "metadata": {
        "colab": {
          "base_uri": "https://localhost:8080/"
        },
        "id": "fVKaV2tCodqf",
        "outputId": "5cc76ddd-28da-4525-df14-8783da3e2ff7"
      },
      "execution_count": null,
      "outputs": [
        {
          "output_type": "stream",
          "name": "stdout",
          "text": [
            "<class '_io.TextIOWrapper'>\n"
          ]
        }
      ]
    },
    {
      "cell_type": "code",
      "source": [
        "fread=open(\"newfile.txt\")\n",
        "text=fread.readlines()\n",
        "# words=text.split()\n",
        "print( text)\n",
        "# print (sorted(words))"
      ],
      "metadata": {
        "colab": {
          "base_uri": "https://localhost:8080/"
        },
        "id": "YVuKNzm_pjlI",
        "outputId": "f22643c9-b4cf-4efa-ef10-a10073ff0d64"
      },
      "execution_count": null,
      "outputs": [
        {
          "output_type": "stream",
          "name": "stdout",
          "text": [
            "['This will be written to the file.This will be written to the file.\\n', 'This will be written to the file.']\n"
          ]
        }
      ]
    },
    {
      "cell_type": "markdown",
      "source": [
        "# Python For Machine Learning"
      ],
      "metadata": {
        "id": "kZN78Zv-r_YO"
      }
    },
    {
      "cell_type": "markdown",
      "source": [
        "## Numpy - Numerical Python"
      ],
      "metadata": {
        "id": "iMiBUXa53hDo"
      }
    },
    {
      "cell_type": "code",
      "source": [
        "import numpy as np\n",
        "\n",
        "a = np.array([1,2,3])\n",
        "print(type(a))\n",
        "print(a)\n",
        "print(a.ndim)\n",
        "print(a.shape)\n",
        "print(a[0])\n",
        "a[0]=5\n",
        "print(a)"
      ],
      "metadata": {
        "colab": {
          "base_uri": "https://localhost:8080/"
        },
        "id": "ppSAGTJXsFwy",
        "outputId": "b17db1af-d04a-4af3-fc89-f6fa85a4f418"
      },
      "execution_count": null,
      "outputs": [
        {
          "output_type": "stream",
          "name": "stdout",
          "text": [
            "<class 'numpy.ndarray'>\n",
            "[1 2 3]\n",
            "1\n",
            "(3,)\n",
            "1\n",
            "[5 2 3]\n"
          ]
        }
      ]
    },
    {
      "cell_type": "code",
      "source": [
        "b = np.array([[1,2,3],[4,5,6]])\n",
        "print(b)\n",
        "print(b.shape)\n",
        "print(b[0,0],b[0,1],b[1,0])"
      ],
      "metadata": {
        "colab": {
          "base_uri": "https://localhost:8080/"
        },
        "id": "PDZjVOpv2uQF",
        "outputId": "ea7ccf05-d62b-4f92-c387-50600af93b1d"
      },
      "execution_count": null,
      "outputs": [
        {
          "output_type": "stream",
          "name": "stdout",
          "text": [
            "[[1 2 3]\n",
            " [4 5 6]]\n",
            "(2, 3)\n",
            "1 2 4\n"
          ]
        }
      ]
    },
    {
      "cell_type": "code",
      "source": [
        "a = np.zeros((2,2))\n",
        "print(a)\n",
        "\n",
        "b = np.ones((3,2,2))\n",
        "print(b)\n",
        "\n",
        "c = np.full((2,3),7)\n",
        "print(c)\n",
        "\n",
        "d = np.eye(2)\n",
        "print(d)\n",
        "\n",
        "e = np.random.random((2,2))\n",
        "print(e)"
      ],
      "metadata": {
        "colab": {
          "base_uri": "https://localhost:8080/"
        },
        "id": "pQxoNcBC3fno",
        "outputId": "933ed291-d9f5-4a18-cbe8-ad4b07e26d14"
      },
      "execution_count": null,
      "outputs": [
        {
          "output_type": "stream",
          "name": "stdout",
          "text": [
            "[[0. 0.]\n",
            " [0. 0.]]\n",
            "[[[1. 1.]\n",
            "  [1. 1.]]\n",
            "\n",
            " [[1. 1.]\n",
            "  [1. 1.]]\n",
            "\n",
            " [[1. 1.]\n",
            "  [1. 1.]]]\n",
            "[[7 7 7]\n",
            " [7 7 7]]\n",
            "[[1. 0.]\n",
            " [0. 1.]]\n",
            "[[0.09544752 0.74896781]\n",
            " [0.75275923 0.21474856]]\n"
          ]
        }
      ]
    },
    {
      "cell_type": "markdown",
      "source": [
        "Array Slicing"
      ],
      "metadata": {
        "id": "tsJGM1kX5NUn"
      }
    },
    {
      "cell_type": "code",
      "source": [
        "a = np.array([[1,2,3,4], [5,6,7,8], [9,10,11,12]])\n",
        "b = a[:2,1:3]\n",
        "print(b)\n",
        "# A slice of an array is a view into the same data, so modifying it\n",
        "# will modify the original array.\n",
        "print(a[0,1])\n",
        "b[0,0] = 69\n",
        "print(a[0,1])"
      ],
      "metadata": {
        "colab": {
          "base_uri": "https://localhost:8080/"
        },
        "id": "sncmdozA5PTz",
        "outputId": "05be3367-49ce-4122-d9f9-4b03f70de5da"
      },
      "execution_count": null,
      "outputs": [
        {
          "output_type": "stream",
          "name": "stdout",
          "text": [
            "[[2 3]\n",
            " [6 7]]\n",
            "2\n",
            "69\n"
          ]
        }
      ]
    },
    {
      "cell_type": "markdown",
      "source": [
        "## Array Math"
      ],
      "metadata": {
        "id": "MlHTkaEx6TTB"
      }
    },
    {
      "cell_type": "code",
      "source": [
        "#Basic mathematical functions operate elementwise on arrays, and are available both as operator\n",
        "#overloads and as functions in the numpy module:\n",
        "x = np.array([[1,2],[3,4]],dtype=np.float64)\n",
        "y = np.array([[5,6],[7,8]],dtype=np.float64)\n",
        "\n",
        "print(x,\"\\n\")\n",
        "print(y,\"\\n\")\n",
        "\n",
        "\n",
        "print(\"add\")\n",
        "#print(x+y)\n",
        "print(np.add(x,y),\"\\n\")\n",
        "\n",
        "print(\"Subtract\")\n",
        "#print(y-x)\n",
        "print(np.subtract(y,x),\"\\n\")\n",
        "\n",
        "print(\"Multiplication\")\n",
        "#print(x*y)\n",
        "print(np.multiply(x,y),\"\\n\")\n",
        "\n",
        "print(\"Division\")\n",
        "#print(y/x)\n",
        "print(np.divide(y,x),\"\\n\")\n",
        "\n",
        "print(\"Square Root\")\n",
        "print(np.sqrt(x),\"\\n\")"
      ],
      "metadata": {
        "colab": {
          "base_uri": "https://localhost:8080/"
        },
        "id": "Fa2HKKO46VwO",
        "outputId": "0449eb66-58e5-4882-c89b-e038c5269e98"
      },
      "execution_count": null,
      "outputs": [
        {
          "output_type": "stream",
          "name": "stdout",
          "text": [
            "[[1. 2.]\n",
            " [3. 4.]] \n",
            "\n",
            "[[5. 6.]\n",
            " [7. 8.]] \n",
            "\n",
            "add\n",
            "[[ 6.  8.]\n",
            " [10. 12.]] \n",
            "\n",
            "Subtract\n",
            "[[4. 4.]\n",
            " [4. 4.]] \n",
            "\n",
            "Multiplication\n",
            "[[ 5. 12.]\n",
            " [21. 32.]] \n",
            "\n",
            "Division\n",
            "[[0.2        0.33333333]\n",
            " [0.42857143 0.5       ]] \n",
            "\n",
            "Square Root\n",
            "[[1.         1.41421356]\n",
            " [1.73205081 2.        ]] \n",
            "\n"
          ]
        }
      ]
    },
    {
      "cell_type": "markdown",
      "source": [
        "## Pandas"
      ],
      "metadata": {
        "id": "FO1ynFq99WLk"
      }
    },
    {
      "cell_type": "code",
      "source": [
        "import pandas as pd\n",
        "import numpy as np\n",
        "\n",
        "df1 = pd.DataFrame({'A':range(1,5),\n",
        "                    'B' : pd.Timestamp('20130102'),\n",
        "                    'C' : pd.Series(1,index=list(range(4)),dtype='float32'),\n",
        "                    'D' : np.array([3] * 4,dtype='int32'),\n",
        "                    'E' : pd.Categorical([\"test\",\"train\",\"test\",\"train\"]),\n",
        "                    'F' : 'foo' })\n",
        "\n",
        "df1"
      ],
      "metadata": {
        "colab": {
          "base_uri": "https://localhost:8080/",
          "height": 193
        },
        "id": "T4nJHa429Yy1",
        "outputId": "7c1a90a5-901f-4f48-f4fc-c2d88999f53e"
      },
      "execution_count": 1,
      "outputs": [
        {
          "output_type": "execute_result",
          "data": {
            "text/plain": [
              "   A          B    C  D      E    F\n",
              "0  1 2013-01-02  1.0  3   test  foo\n",
              "1  2 2013-01-02  1.0  3  train  foo\n",
              "2  3 2013-01-02  1.0  3   test  foo\n",
              "3  4 2013-01-02  1.0  3  train  foo"
            ],
            "text/html": [
              "\n",
              "  <div id=\"df-9b735154-9d81-493a-a6f0-9616d8bf7818\">\n",
              "    <div class=\"colab-df-container\">\n",
              "      <div>\n",
              "<style scoped>\n",
              "    .dataframe tbody tr th:only-of-type {\n",
              "        vertical-align: middle;\n",
              "    }\n",
              "\n",
              "    .dataframe tbody tr th {\n",
              "        vertical-align: top;\n",
              "    }\n",
              "\n",
              "    .dataframe thead th {\n",
              "        text-align: right;\n",
              "    }\n",
              "</style>\n",
              "<table border=\"1\" class=\"dataframe\">\n",
              "  <thead>\n",
              "    <tr style=\"text-align: right;\">\n",
              "      <th></th>\n",
              "      <th>A</th>\n",
              "      <th>B</th>\n",
              "      <th>C</th>\n",
              "      <th>D</th>\n",
              "      <th>E</th>\n",
              "      <th>F</th>\n",
              "    </tr>\n",
              "  </thead>\n",
              "  <tbody>\n",
              "    <tr>\n",
              "      <th>0</th>\n",
              "      <td>1</td>\n",
              "      <td>2013-01-02</td>\n",
              "      <td>1.0</td>\n",
              "      <td>3</td>\n",
              "      <td>test</td>\n",
              "      <td>foo</td>\n",
              "    </tr>\n",
              "    <tr>\n",
              "      <th>1</th>\n",
              "      <td>2</td>\n",
              "      <td>2013-01-02</td>\n",
              "      <td>1.0</td>\n",
              "      <td>3</td>\n",
              "      <td>train</td>\n",
              "      <td>foo</td>\n",
              "    </tr>\n",
              "    <tr>\n",
              "      <th>2</th>\n",
              "      <td>3</td>\n",
              "      <td>2013-01-02</td>\n",
              "      <td>1.0</td>\n",
              "      <td>3</td>\n",
              "      <td>test</td>\n",
              "      <td>foo</td>\n",
              "    </tr>\n",
              "    <tr>\n",
              "      <th>3</th>\n",
              "      <td>4</td>\n",
              "      <td>2013-01-02</td>\n",
              "      <td>1.0</td>\n",
              "      <td>3</td>\n",
              "      <td>train</td>\n",
              "      <td>foo</td>\n",
              "    </tr>\n",
              "  </tbody>\n",
              "</table>\n",
              "</div>\n",
              "      <button class=\"colab-df-convert\" onclick=\"convertToInteractive('df-9b735154-9d81-493a-a6f0-9616d8bf7818')\"\n",
              "              title=\"Convert this dataframe to an interactive table.\"\n",
              "              style=\"display:none;\">\n",
              "        \n",
              "  <svg xmlns=\"http://www.w3.org/2000/svg\" height=\"24px\"viewBox=\"0 0 24 24\"\n",
              "       width=\"24px\">\n",
              "    <path d=\"M0 0h24v24H0V0z\" fill=\"none\"/>\n",
              "    <path d=\"M18.56 5.44l.94 2.06.94-2.06 2.06-.94-2.06-.94-.94-2.06-.94 2.06-2.06.94zm-11 1L8.5 8.5l.94-2.06 2.06-.94-2.06-.94L8.5 2.5l-.94 2.06-2.06.94zm10 10l.94 2.06.94-2.06 2.06-.94-2.06-.94-.94-2.06-.94 2.06-2.06.94z\"/><path d=\"M17.41 7.96l-1.37-1.37c-.4-.4-.92-.59-1.43-.59-.52 0-1.04.2-1.43.59L10.3 9.45l-7.72 7.72c-.78.78-.78 2.05 0 2.83L4 21.41c.39.39.9.59 1.41.59.51 0 1.02-.2 1.41-.59l7.78-7.78 2.81-2.81c.8-.78.8-2.07 0-2.86zM5.41 20L4 18.59l7.72-7.72 1.47 1.35L5.41 20z\"/>\n",
              "  </svg>\n",
              "      </button>\n",
              "      \n",
              "  <style>\n",
              "    .colab-df-container {\n",
              "      display:flex;\n",
              "      flex-wrap:wrap;\n",
              "      gap: 12px;\n",
              "    }\n",
              "\n",
              "    .colab-df-convert {\n",
              "      background-color: #E8F0FE;\n",
              "      border: none;\n",
              "      border-radius: 50%;\n",
              "      cursor: pointer;\n",
              "      display: none;\n",
              "      fill: #1967D2;\n",
              "      height: 32px;\n",
              "      padding: 0 0 0 0;\n",
              "      width: 32px;\n",
              "    }\n",
              "\n",
              "    .colab-df-convert:hover {\n",
              "      background-color: #E2EBFA;\n",
              "      box-shadow: 0px 1px 2px rgba(60, 64, 67, 0.3), 0px 1px 3px 1px rgba(60, 64, 67, 0.15);\n",
              "      fill: #174EA6;\n",
              "    }\n",
              "\n",
              "    [theme=dark] .colab-df-convert {\n",
              "      background-color: #3B4455;\n",
              "      fill: #D2E3FC;\n",
              "    }\n",
              "\n",
              "    [theme=dark] .colab-df-convert:hover {\n",
              "      background-color: #434B5C;\n",
              "      box-shadow: 0px 1px 3px 1px rgba(0, 0, 0, 0.15);\n",
              "      filter: drop-shadow(0px 1px 2px rgba(0, 0, 0, 0.3));\n",
              "      fill: #FFFFFF;\n",
              "    }\n",
              "  </style>\n",
              "\n",
              "      <script>\n",
              "        const buttonEl =\n",
              "          document.querySelector('#df-9b735154-9d81-493a-a6f0-9616d8bf7818 button.colab-df-convert');\n",
              "        buttonEl.style.display =\n",
              "          google.colab.kernel.accessAllowed ? 'block' : 'none';\n",
              "\n",
              "        async function convertToInteractive(key) {\n",
              "          const element = document.querySelector('#df-9b735154-9d81-493a-a6f0-9616d8bf7818');\n",
              "          const dataTable =\n",
              "            await google.colab.kernel.invokeFunction('convertToInteractive',\n",
              "                                                     [key], {});\n",
              "          if (!dataTable) return;\n",
              "\n",
              "          const docLinkHtml = 'Like what you see? Visit the ' +\n",
              "            '<a target=\"_blank\" href=https://colab.research.google.com/notebooks/data_table.ipynb>data table notebook</a>'\n",
              "            + ' to learn more about interactive tables.';\n",
              "          element.innerHTML = '';\n",
              "          dataTable['output_type'] = 'display_data';\n",
              "          await google.colab.output.renderOutput(dataTable, element);\n",
              "          const docLink = document.createElement('div');\n",
              "          docLink.innerHTML = docLinkHtml;\n",
              "          element.appendChild(docLink);\n",
              "        }\n",
              "      </script>\n",
              "    </div>\n",
              "  </div>\n",
              "  "
            ]
          },
          "metadata": {},
          "execution_count": 1
        }
      ]
    },
    {
      "cell_type": "code",
      "source": [
        "df1.dtypes"
      ],
      "metadata": {
        "colab": {
          "base_uri": "https://localhost:8080/"
        },
        "id": "dZFrUbP2BYhz",
        "outputId": "ac3ab85e-35b7-4e58-bd1b-2918f8167531"
      },
      "execution_count": 2,
      "outputs": [
        {
          "output_type": "execute_result",
          "data": {
            "text/plain": [
              "A             int64\n",
              "B    datetime64[ns]\n",
              "C           float32\n",
              "D             int32\n",
              "E          category\n",
              "F            object\n",
              "dtype: object"
            ]
          },
          "metadata": {},
          "execution_count": 2
        }
      ]
    },
    {
      "cell_type": "markdown",
      "source": [
        "## Matplotlib"
      ],
      "metadata": {
        "id": "8OfC-emuCCKT"
      }
    },
    {
      "cell_type": "code",
      "source": [
        "%matplotlib inline\n",
        "import math\n",
        "import matplotlib.pyplot as plt\n",
        "\n",
        "x = range(1,100)\n",
        "y = [math.sin(i) for i in x]\n",
        "plt.plot(x,y)\n",
        "plt.show()"
      ],
      "metadata": {
        "colab": {
          "base_uri": "https://localhost:8080/",
          "height": 265
        },
        "id": "82yy95wsCJWJ",
        "outputId": "8fd0e135-9c5f-4f58-8a14-f7410284fcf2"
      },
      "execution_count": 3,
      "outputs": [
        {
          "output_type": "display_data",
          "data": {
            "text/plain": [
              "<Figure size 432x288 with 1 Axes>"
            ],
            "image/png": "[encoded data removed]"
          },
          "metadata": {
            "needs_background": "light"
          }
        }
      ]
    },
    {
      "cell_type": "code",
      "source": [
        "x = np.arange(0,3*np.pi,0.1)\n",
        "# print(x)\n",
        "y = np.sin(x)\n",
        "\n",
        "plt.plot(x,y)\n",
        "plt.show()"
      ],
      "metadata": {
        "colab": {
          "base_uri": "https://localhost:8080/",
          "height": 265
        },
        "id": "gJ-FqDGmDYPU",
        "outputId": "366cdae5-050f-45ea-a3c6-df0718042a66"
      },
      "execution_count": 5,
      "outputs": [
        {
          "output_type": "display_data",
          "data": {
            "text/plain": [
              "<Figure size 432x288 with 1 Axes>"
            ],
            "image/png": "[encoded data removed]"
          },
          "metadata": {
            "needs_background": "light"
          }
        }
      ]
    },
    {
      "cell_type": "code",
      "source": [
        "x = np.arange(0, 3 * np.pi, 0.1)\n",
        "y_sin = np.sin(x)\n",
        "y_cos = np.cos(x)\n",
        "\n",
        "plt.plot(x, y_sin)\n",
        "plt.plot(x, y_cos)\n",
        "plt.xlabel('x axis label')\n",
        "plt.ylabel('y axis label')\n",
        "plt.title('Sine and Cosine')\n",
        "plt.legend(['Sine', 'Cosine'])\n",
        "plt.show()"
      ],
      "metadata": {
        "colab": {
          "base_uri": "https://localhost:8080/",
          "height": 295
        },
        "id": "q6kKH-HUQTew",
        "outputId": "c3f6f7d6-9ddb-4559-abdb-ed7fcd2f9e03"
      },
      "execution_count": 6,
      "outputs": [
        {
          "output_type": "display_data",
          "data": {
            "text/plain": [
              "<Figure size 432x288 with 1 Axes>"
            ],
            "image/png": "[encoded data removed]"
          },
          "metadata": {
            "needs_background": "light"
          }
        }
      ]
    },
    {
      "cell_type": "markdown",
      "source": [
        "Subplots"
      ],
      "metadata": {
        "id": "DET450SwQ2mS"
      }
    },
    {
      "cell_type": "code",
      "source": [
        "x = np.arange(0, 3 * np.pi, 0.1)\n",
        "y_sin = np.sin(x)\n",
        "y_cos = np.cos(x)\n",
        "\n",
        "plt.subplot(2, 1, 1)\n",
        "\n",
        "plt.plot(x, y_sin)\n",
        "plt.title('Sine')\n",
        "\n",
        "plt.subplot(2, 1, 2)\n",
        "plt.plot(x, y_cos)\n",
        "plt.title('Cosine')\n",
        "\n",
        "plt.show()"
      ],
      "metadata": {
        "colab": {
          "base_uri": "https://localhost:8080/",
          "height": 281
        },
        "id": "73FmRpIuQ315",
        "outputId": "4e053b62-a1df-49c0-f864-af7a424e4b73"
      },
      "execution_count": 7,
      "outputs": [
        {
          "output_type": "display_data",
          "data": {
            "text/plain": [
              "<Figure size 432x288 with 2 Axes>"
            ],
            "image/png": "[encoded data removed]"
          },
          "metadata": {
            "needs_background": "light"
          }
        }
      ]
    },
    {
      "cell_type": "markdown",
      "source": [
        "## Exploring Data with python"
      ],
      "metadata": {
        "id": "LKhyCdhASob0"
      }
    },
    {
      "cell_type": "code",
      "source": [
        "%matplotlib inline\n",
        "import numpy as np\n",
        "import pandas as pd\n",
        "import matplotlib.pyplot as plt\n",
        "from pandas import DataFrame\n",
        "from pandas import Series"
      ],
      "metadata": {
        "id": "IlQZoEi3SsdD"
      },
      "execution_count": 8,
      "outputs": []
    },
    {
      "cell_type": "code",
      "source": [
        "pd.set_option('display.max_columns', None)\n",
        "df=pd.read_csv('/content/sample_data/california_housing_train.csv',error_bad_lines=False)\n",
        "\n",
        "print(\"\\nToral Rows=\",len(df),\"\\n\\n\")\n",
        "print(df.head(3))"
      ],
      "metadata": {
        "colab": {
          "base_uri": "https://localhost:8080/"
        },
        "id": "fV36K545THDb",
        "outputId": "eb64a721-258c-461e-e308-b22408156afa"
      },
      "execution_count": 13,
      "outputs": [
        {
          "output_type": "stream",
          "name": "stdout",
          "text": [
            "\n",
            "Toral Rows= 17000 \n",
            "\n",
            "\n",
            "   longitude  latitude  housing_median_age  total_rooms  total_bedrooms  \\\n",
            "0    -114.31     34.19                15.0       5612.0          1283.0   \n",
            "1    -114.47     34.40                19.0       7650.0          1901.0   \n",
            "2    -114.56     33.69                17.0        720.0           174.0   \n",
            "\n",
            "   population  households  median_income  median_house_value  \n",
            "0      1015.0       472.0         1.4936             66900.0  \n",
            "1      1129.0       463.0         1.8200             80100.0  \n",
            "2       333.0       117.0         1.6509             85700.0  \n"
          ]
        }
      ]
    },
    {
      "cell_type": "code",
      "source": [
        "df.describe()"
      ],
      "metadata": {
        "colab": {
          "base_uri": "https://localhost:8080/",
          "height": 364
        },
        "id": "prORAzkFUan0",
        "outputId": "bb157724-a66f-4668-9c14-a5860e852990"
      },
      "execution_count": 14,
      "outputs": [
        {
          "output_type": "execute_result",
          "data": {
            "text/plain": [
              "          longitude      latitude  housing_median_age   total_rooms  \\\n",
              "count  17000.000000  17000.000000        17000.000000  17000.000000   \n",
              "mean    -119.562108     35.625225           28.589353   2643.664412   \n",
              "std        2.005166      2.137340           12.586937   2179.947071   \n",
              "min     -124.350000     32.540000            1.000000      2.000000   \n",
              "25%     -121.790000     33.930000           18.000000   1462.000000   \n",
              "50%     -118.490000     34.250000           29.000000   2127.000000   \n",
              "75%     -118.000000     37.720000           37.000000   3151.250000   \n",
              "max     -114.310000     41.950000           52.000000  37937.000000   \n",
              "\n",
              "       total_bedrooms    population    households  median_income  \\\n",
              "count    17000.000000  17000.000000  17000.000000   17000.000000   \n",
              "mean       539.410824   1429.573941    501.221941       3.883578   \n",
              "std        421.499452   1147.852959    384.520841       1.908157   \n",
              "min          1.000000      3.000000      1.000000       0.499900   \n",
              "25%        297.000000    790.000000    282.000000       2.566375   \n",
              "50%        434.000000   1167.000000    409.000000       3.544600   \n",
              "75%        648.250000   1721.000000    605.250000       4.767000   \n",
              "max       6445.000000  35682.000000   6082.000000      15.000100   \n",
              "\n",
              "       median_house_value  \n",
              "count        17000.000000  \n",
              "mean        207300.912353  \n",
              "std         115983.764387  \n",
              "min          14999.000000  \n",
              "25%         119400.000000  \n",
              "50%         180400.000000  \n",
              "75%         265000.000000  \n",
              "max         500001.000000  "
            ],
            "text/html": [
              "\n",
              "  <div id=\"df-0f2cf8fd-6148-440c-8eae-f9fcd92e5833\">\n",
              "    <div class=\"colab-df-container\">\n",
              "      <div>\n",
              "<style scoped>\n",
              "    .dataframe tbody tr th:only-of-type {\n",
              "        vertical-align: middle;\n",
              "    }\n",
              "\n",
              "    .dataframe tbody tr th {\n",
              "        vertical-align: top;\n",
              "    }\n",
              "\n",
              "    .dataframe thead th {\n",
              "        text-align: right;\n",
              "    }\n",
              "</style>\n",
              "<table border=\"1\" class=\"dataframe\">\n",
              "  <thead>\n",
              "    <tr style=\"text-align: right;\">\n",
              "      <th></th>\n",
              "      <th>longitude</th>\n",
              "      <th>latitude</th>\n",
              "      <th>housing_median_age</th>\n",
              "      <th>total_rooms</th>\n",
              "      <th>total_bedrooms</th>\n",
              "      <th>population</th>\n",
              "      <th>households</th>\n",
              "      <th>median_income</th>\n",
              "      <th>median_house_value</th>\n",
              "    </tr>\n",
              "  </thead>\n",
              "  <tbody>\n",
              "    <tr>\n",
              "      <th>count</th>\n",
              "      <td>17000.000000</td>\n",
              "      <td>17000.000000</td>\n",
              "      <td>17000.000000</td>\n",
              "      <td>17000.000000</td>\n",
              "      <td>17000.000000</td>\n",
              "      <td>17000.000000</td>\n",
              "      <td>17000.000000</td>\n",
              "      <td>17000.000000</td>\n",
              "      <td>17000.000000</td>\n",
              "    </tr>\n",
              "    <tr>\n",
              "      <th>mean</th>\n",
              "      <td>-119.562108</td>\n",
              "      <td>35.625225</td>\n",
              "      <td>28.589353</td>\n",
              "      <td>2643.664412</td>\n",
              "      <td>539.410824</td>\n",
              "      <td>1429.573941</td>\n",
              "      <td>501.221941</td>\n",
              "      <td>3.883578</td>\n",
              "      <td>207300.912353</td>\n",
              "    </tr>\n",
              "    <tr>\n",
              "      <th>std</th>\n",
              "      <td>2.005166</td>\n",
              "      <td>2.137340</td>\n",
              "      <td>12.586937</td>\n",
              "      <td>2179.947071</td>\n",
              "      <td>421.499452</td>\n",
              "      <td>1147.852959</td>\n",
              "      <td>384.520841</td>\n",
              "      <td>1.908157</td>\n",
              "      <td>115983.764387</td>\n",
              "    </tr>\n",
              "    <tr>\n",
              "      <th>min</th>\n",
              "      <td>-124.350000</td>\n",
              "      <td>32.540000</td>\n",
              "      <td>1.000000</td>\n",
              "      <td>2.000000</td>\n",
              "      <td>1.000000</td>\n",
              "      <td>3.000000</td>\n",
              "      <td>1.000000</td>\n",
              "      <td>0.499900</td>\n",
              "      <td>14999.000000</td>\n",
              "    </tr>\n",
              "    <tr>\n",
              "      <th>25%</th>\n",
              "      <td>-121.790000</td>\n",
              "      <td>33.930000</td>\n",
              "      <td>18.000000</td>\n",
              "      <td>1462.000000</td>\n",
              "      <td>297.000000</td>\n",
              "      <td>790.000000</td>\n",
              "      <td>282.000000</td>\n",
              "      <td>2.566375</td>\n",
              "      <td>119400.000000</td>\n",
              "    </tr>\n",
              "    <tr>\n",
              "      <th>50%</th>\n",
              "      <td>-118.490000</td>\n",
              "      <td>34.250000</td>\n",
              "      <td>29.000000</td>\n",
              "      <td>2127.000000</td>\n",
              "      <td>434.000000</td>\n",
              "      <td>1167.000000</td>\n",
              "      <td>409.000000</td>\n",
              "      <td>3.544600</td>\n",
              "      <td>180400.000000</td>\n",
              "    </tr>\n",
              "    <tr>\n",
              "      <th>75%</th>\n",
              "      <td>-118.000000</td>\n",
              "      <td>37.720000</td>\n",
              "      <td>37.000000</td>\n",
              "      <td>3151.250000</td>\n",
              "      <td>648.250000</td>\n",
              "      <td>1721.000000</td>\n",
              "      <td>605.250000</td>\n",
              "      <td>4.767000</td>\n",
              "      <td>265000.000000</td>\n",
              "    </tr>\n",
              "    <tr>\n",
              "      <th>max</th>\n",
              "      <td>-114.310000</td>\n",
              "      <td>41.950000</td>\n",
              "      <td>52.000000</td>\n",
              "      <td>37937.000000</td>\n",
              "      <td>6445.000000</td>\n",
              "      <td>35682.000000</td>\n",
              "      <td>6082.000000</td>\n",
              "      <td>15.000100</td>\n",
              "      <td>500001.000000</td>\n",
              "    </tr>\n",
              "  </tbody>\n",
              "</table>\n",
              "</div>\n",
              "      <button class=\"colab-df-convert\" onclick=\"convertToInteractive('df-0f2cf8fd-6148-440c-8eae-f9fcd92e5833')\"\n",
              "              title=\"Convert this dataframe to an interactive table.\"\n",
              "              style=\"display:none;\">\n",
              "        \n",
              "  <svg xmlns=\"http://www.w3.org/2000/svg\" height=\"24px\"viewBox=\"0 0 24 24\"\n",
              "       width=\"24px\">\n",
              "    <path d=\"M0 0h24v24H0V0z\" fill=\"none\"/>\n",
              "    <path d=\"M18.56 5.44l.94 2.06.94-2.06 2.06-.94-2.06-.94-.94-2.06-.94 2.06-2.06.94zm-11 1L8.5 8.5l.94-2.06 2.06-.94-2.06-.94L8.5 2.5l-.94 2.06-2.06.94zm10 10l.94 2.06.94-2.06 2.06-.94-2.06-.94-.94-2.06-.94 2.06-2.06.94z\"/><path d=\"M17.41 7.96l-1.37-1.37c-.4-.4-.92-.59-1.43-.59-.52 0-1.04.2-1.43.59L10.3 9.45l-7.72 7.72c-.78.78-.78 2.05 0 2.83L4 21.41c.39.39.9.59 1.41.59.51 0 1.02-.2 1.41-.59l7.78-7.78 2.81-2.81c.8-.78.8-2.07 0-2.86zM5.41 20L4 18.59l7.72-7.72 1.47 1.35L5.41 20z\"/>\n",
              "  </svg>\n",
              "      </button>\n",
              "      \n",
              "  <style>\n",
              "    .colab-df-container {\n",
              "      display:flex;\n",
              "      flex-wrap:wrap;\n",
              "      gap: 12px;\n",
              "    }\n",
              "\n",
              "    .colab-df-convert {\n",
              "      background-color: #E8F0FE;\n",
              "      border: none;\n",
              "      border-radius: 50%;\n",
              "      cursor: pointer;\n",
              "      display: none;\n",
              "      fill: #1967D2;\n",
              "      height: 32px;\n",
              "      padding: 0 0 0 0;\n",
              "      width: 32px;\n",
              "    }\n",
              "\n",
              "    .colab-df-convert:hover {\n",
              "      background-color: #E2EBFA;\n",
              "      box-shadow: 0px 1px 2px rgba(60, 64, 67, 0.3), 0px 1px 3px 1px rgba(60, 64, 67, 0.15);\n",
              "      fill: #174EA6;\n",
              "    }\n",
              "\n",
              "    [theme=dark] .colab-df-convert {\n",
              "      background-color: #3B4455;\n",
              "      fill: #D2E3FC;\n",
              "    }\n",
              "\n",
              "    [theme=dark] .colab-df-convert:hover {\n",
              "      background-color: #434B5C;\n",
              "      box-shadow: 0px 1px 3px 1px rgba(0, 0, 0, 0.15);\n",
              "      filter: drop-shadow(0px 1px 2px rgba(0, 0, 0, 0.3));\n",
              "      fill: #FFFFFF;\n",
              "    }\n",
              "  </style>\n",
              "\n",
              "      <script>\n",
              "        const buttonEl =\n",
              "          document.querySelector('#df-0f2cf8fd-6148-440c-8eae-f9fcd92e5833 button.colab-df-convert');\n",
              "        buttonEl.style.display =\n",
              "          google.colab.kernel.accessAllowed ? 'block' : 'none';\n",
              "\n",
              "        async function convertToInteractive(key) {\n",
              "          const element = document.querySelector('#df-0f2cf8fd-6148-440c-8eae-f9fcd92e5833');\n",
              "          const dataTable =\n",
              "            await google.colab.kernel.invokeFunction('convertToInteractive',\n",
              "                                                     [key], {});\n",
              "          if (!dataTable) return;\n",
              "\n",
              "          const docLinkHtml = 'Like what you see? Visit the ' +\n",
              "            '<a target=\"_blank\" href=https://colab.research.google.com/notebooks/data_table.ipynb>data table notebook</a>'\n",
              "            + ' to learn more about interactive tables.';\n",
              "          element.innerHTML = '';\n",
              "          dataTable['output_type'] = 'display_data';\n",
              "          await google.colab.output.renderOutput(dataTable, element);\n",
              "          const docLink = document.createElement('div');\n",
              "          docLink.innerHTML = docLinkHtml;\n",
              "          element.appendChild(docLink);\n",
              "        }\n",
              "      </script>\n",
              "    </div>\n",
              "  </div>\n",
              "  "
            ]
          },
          "metadata": {},
          "execution_count": 14
        }
      ]
    },
    {
      "cell_type": "code",
      "source": [
        "df.dtypes"
      ],
      "metadata": {
        "colab": {
          "base_uri": "https://localhost:8080/"
        },
        "id": "6vqIGhGjcpsa",
        "outputId": "5f7f0706-be63-4c0c-bb7b-3e7745c7ae3c"
      },
      "execution_count": 15,
      "outputs": [
        {
          "output_type": "execute_result",
          "data": {
            "text/plain": [
              "longitude             float64\n",
              "latitude              float64\n",
              "housing_median_age    float64\n",
              "total_rooms           float64\n",
              "total_bedrooms        float64\n",
              "population            float64\n",
              "households            float64\n",
              "median_income         float64\n",
              "median_house_value    float64\n",
              "dtype: object"
            ]
          },
          "metadata": {},
          "execution_count": 15
        }
      ]
    },
    {
      "cell_type": "code",
      "source": [
        "df['total_rooms']"
      ],
      "metadata": {
        "colab": {
          "base_uri": "https://localhost:8080/"
        },
        "id": "FpDGXR-Qczbt",
        "outputId": "b25ca0d0-5323-4ba3-ee34-e91eae2db530"
      },
      "execution_count": 17,
      "outputs": [
        {
          "output_type": "execute_result",
          "data": {
            "text/plain": [
              "0        5612.0\n",
              "1        7650.0\n",
              "2         720.0\n",
              "3        1501.0\n",
              "4        1454.0\n",
              "          ...  \n",
              "16995    2217.0\n",
              "16996    2349.0\n",
              "16997    2677.0\n",
              "16998    2672.0\n",
              "16999    1820.0\n",
              "Name: total_rooms, Length: 17000, dtype: float64"
            ]
          },
          "metadata": {},
          "execution_count": 17
        }
      ]
    },
    {
      "cell_type": "code",
      "source": [
        "df[df.total_rooms>2000]"
      ],
      "metadata": {
        "colab": {
          "base_uri": "https://localhost:8080/",
          "height": 488
        },
        "id": "q2STEgDBdW0v",
        "outputId": "2e0fd728-e621-431c-c5f9-fbb8ed948780"
      },
      "execution_count": 18,
      "outputs": [
        {
          "output_type": "execute_result",
          "data": {
            "text/plain": [
              "       longitude  latitude  housing_median_age  total_rooms  total_bedrooms  \\\n",
              "0        -114.31     34.19                15.0       5612.0          1283.0   \n",
              "1        -114.47     34.40                19.0       7650.0          1901.0   \n",
              "6        -114.58     33.61                25.0       2907.0           680.0   \n",
              "8        -114.59     33.61                34.0       4789.0          1175.0   \n",
              "10       -114.60     33.62                16.0       3741.0           801.0   \n",
              "...          ...       ...                 ...          ...             ...   \n",
              "16993    -124.23     40.54                52.0       2694.0           453.0   \n",
              "16995    -124.26     40.58                52.0       2217.0           394.0   \n",
              "16996    -124.27     40.69                36.0       2349.0           528.0   \n",
              "16997    -124.30     41.84                17.0       2677.0           531.0   \n",
              "16998    -124.30     41.80                19.0       2672.0           552.0   \n",
              "\n",
              "       population  households  median_income  median_house_value  \n",
              "0          1015.0       472.0         1.4936             66900.0  \n",
              "1          1129.0       463.0         1.8200             80100.0  \n",
              "6          1841.0       633.0         2.6768             82400.0  \n",
              "8          3134.0      1056.0         2.1782             58400.0  \n",
              "10         2434.0       824.0         2.6797             86500.0  \n",
              "...           ...         ...            ...                 ...  \n",
              "16993      1152.0       435.0         3.0806            106700.0  \n",
              "16995       907.0       369.0         2.3571            111400.0  \n",
              "16996      1194.0       465.0         2.5179             79000.0  \n",
              "16997      1244.0       456.0         3.0313            103600.0  \n",
              "16998      1298.0       478.0         1.9797             85800.0  \n",
              "\n",
              "[9242 rows x 9 columns]"
            ],
            "text/html": [
              "\n",
              "  <div id=\"df-b23cd712-98e4-48d6-beb4-c7a658e3b965\">\n",
              "    <div class=\"colab-df-container\">\n",
              "      <div>\n",
              "<style scoped>\n",
              "    .dataframe tbody tr th:only-of-type {\n",
              "        vertical-align: middle;\n",
              "    }\n",
              "\n",
              "    .dataframe tbody tr th {\n",
              "        vertical-align: top;\n",
              "    }\n",
              "\n",
              "    .dataframe thead th {\n",
              "        text-align: right;\n",
              "    }\n",
              "</style>\n",
              "<table border=\"1\" class=\"dataframe\">\n",
              "  <thead>\n",
              "    <tr style=\"text-align: right;\">\n",
              "      <th></th>\n",
              "      <th>longitude</th>\n",
              "      <th>latitude</th>\n",
              "      <th>housing_median_age</th>\n",
              "      <th>total_rooms</th>\n",
              "      <th>total_bedrooms</th>\n",
              "      <th>population</th>\n",
              "      <th>households</th>\n",
              "      <th>median_income</th>\n",
              "      <th>median_house_value</th>\n",
              "    </tr>\n",
              "  </thead>\n",
              "  <tbody>\n",
              "    <tr>\n",
              "      <th>0</th>\n",
              "      <td>-114.31</td>\n",
              "      <td>34.19</td>\n",
              "      <td>15.0</td>\n",
              "      <td>5612.0</td>\n",
              "      <td>1283.0</td>\n",
              "      <td>1015.0</td>\n",
              "      <td>472.0</td>\n",
              "      <td>1.4936</td>\n",
              "      <td>66900.0</td>\n",
              "    </tr>\n",
              "    <tr>\n",
              "      <th>1</th>\n",
              "      <td>-114.47</td>\n",
              "      <td>34.40</td>\n",
              "      <td>19.0</td>\n",
              "      <td>7650.0</td>\n",
              "      <td>1901.0</td>\n",
              "      <td>1129.0</td>\n",
              "      <td>463.0</td>\n",
              "      <td>1.8200</td>\n",
              "      <td>80100.0</td>\n",
              "    </tr>\n",
              "    <tr>\n",
              "      <th>6</th>\n",
              "      <td>-114.58</td>\n",
              "      <td>33.61</td>\n",
              "      <td>25.0</td>\n",
              "      <td>2907.0</td>\n",
              "      <td>680.0</td>\n",
              "      <td>1841.0</td>\n",
              "      <td>633.0</td>\n",
              "      <td>2.6768</td>\n",
              "      <td>82400.0</td>\n",
              "    </tr>\n",
              "    <tr>\n",
              "      <th>8</th>\n",
              "      <td>-114.59</td>\n",
              "      <td>33.61</td>\n",
              "      <td>34.0</td>\n",
              "      <td>4789.0</td>\n",
              "      <td>1175.0</td>\n",
              "      <td>3134.0</td>\n",
              "      <td>1056.0</td>\n",
              "      <td>2.1782</td>\n",
              "      <td>58400.0</td>\n",
              "    </tr>\n",
              "    <tr>\n",
              "      <th>10</th>\n",
              "      <td>-114.60</td>\n",
              "      <td>33.62</td>\n",
              "      <td>16.0</td>\n",
              "      <td>3741.0</td>\n",
              "      <td>801.0</td>\n",
              "      <td>2434.0</td>\n",
              "      <td>824.0</td>\n",
              "      <td>2.6797</td>\n",
              "      <td>86500.0</td>\n",
              "    </tr>\n",
              "    <tr>\n",
              "      <th>...</th>\n",
              "      <td>...</td>\n",
              "      <td>...</td>\n",
              "      <td>...</td>\n",
              "      <td>...</td>\n",
              "      <td>...</td>\n",
              "      <td>...</td>\n",
              "      <td>...</td>\n",
              "      <td>...</td>\n",
              "      <td>...</td>\n",
              "    </tr>\n",
              "    <tr>\n",
              "      <th>16993</th>\n",
              "      <td>-124.23</td>\n",
              "      <td>40.54</td>\n",
              "      <td>52.0</td>\n",
              "      <td>2694.0</td>\n",
              "      <td>453.0</td>\n",
              "      <td>1152.0</td>\n",
              "      <td>435.0</td>\n",
              "      <td>3.0806</td>\n",
              "      <td>106700.0</td>\n",
              "    </tr>\n",
              "    <tr>\n",
              "      <th>16995</th>\n",
              "      <td>-124.26</td>\n",
              "      <td>40.58</td>\n",
              "      <td>52.0</td>\n",
              "      <td>2217.0</td>\n",
              "      <td>394.0</td>\n",
              "      <td>907.0</td>\n",
              "      <td>369.0</td>\n",
              "      <td>2.3571</td>\n",
              "      <td>111400.0</td>\n",
              "    </tr>\n",
              "    <tr>\n",
              "      <th>16996</th>\n",
              "      <td>-124.27</td>\n",
              "      <td>40.69</td>\n",
              "      <td>36.0</td>\n",
              "      <td>2349.0</td>\n",
              "      <td>528.0</td>\n",
              "      <td>1194.0</td>\n",
              "      <td>465.0</td>\n",
              "      <td>2.5179</td>\n",
              "      <td>79000.0</td>\n",
              "    </tr>\n",
              "    <tr>\n",
              "      <th>16997</th>\n",
              "      <td>-124.30</td>\n",
              "      <td>41.84</td>\n",
              "      <td>17.0</td>\n",
              "      <td>2677.0</td>\n",
              "      <td>531.0</td>\n",
              "      <td>1244.0</td>\n",
              "      <td>456.0</td>\n",
              "      <td>3.0313</td>\n",
              "      <td>103600.0</td>\n",
              "    </tr>\n",
              "    <tr>\n",
              "      <th>16998</th>\n",
              "      <td>-124.30</td>\n",
              "      <td>41.80</td>\n",
              "      <td>19.0</td>\n",
              "      <td>2672.0</td>\n",
              "      <td>552.0</td>\n",
              "      <td>1298.0</td>\n",
              "      <td>478.0</td>\n",
              "      <td>1.9797</td>\n",
              "      <td>85800.0</td>\n",
              "    </tr>\n",
              "  </tbody>\n",
              "</table>\n",
              "<p>9242 rows × 9 columns</p>\n",
              "</div>\n",
              "      <button class=\"colab-df-convert\" onclick=\"convertToInteractive('df-b23cd712-98e4-48d6-beb4-c7a658e3b965')\"\n",
              "              title=\"Convert this dataframe to an interactive table.\"\n",
              "              style=\"display:none;\">\n",
              "        \n",
              "  <svg xmlns=\"http://www.w3.org/2000/svg\" height=\"24px\"viewBox=\"0 0 24 24\"\n",
              "       width=\"24px\">\n",
              "    <path d=\"M0 0h24v24H0V0z\" fill=\"none\"/>\n",
              "    <path d=\"M18.56 5.44l.94 2.06.94-2.06 2.06-.94-2.06-.94-.94-2.06-.94 2.06-2.06.94zm-11 1L8.5 8.5l.94-2.06 2.06-.94-2.06-.94L8.5 2.5l-.94 2.06-2.06.94zm10 10l.94 2.06.94-2.06 2.06-.94-2.06-.94-.94-2.06-.94 2.06-2.06.94z\"/><path d=\"M17.41 7.96l-1.37-1.37c-.4-.4-.92-.59-1.43-.59-.52 0-1.04.2-1.43.59L10.3 9.45l-7.72 7.72c-.78.78-.78 2.05 0 2.83L4 21.41c.39.39.9.59 1.41.59.51 0 1.02-.2 1.41-.59l7.78-7.78 2.81-2.81c.8-.78.8-2.07 0-2.86zM5.41 20L4 18.59l7.72-7.72 1.47 1.35L5.41 20z\"/>\n",
              "  </svg>\n",
              "      </button>\n",
              "      \n",
              "  <style>\n",
              "    .colab-df-container {\n",
              "      display:flex;\n",
              "      flex-wrap:wrap;\n",
              "      gap: 12px;\n",
              "    }\n",
              "\n",
              "    .colab-df-convert {\n",
              "      background-color: #E8F0FE;\n",
              "      border: none;\n",
              "      border-radius: 50%;\n",
              "      cursor: pointer;\n",
              "      display: none;\n",
              "      fill: #1967D2;\n",
              "      height: 32px;\n",
              "      padding: 0 0 0 0;\n",
              "      width: 32px;\n",
              "    }\n",
              "\n",
              "    .colab-df-convert:hover {\n",
              "      background-color: #E2EBFA;\n",
              "      box-shadow: 0px 1px 2px rgba(60, 64, 67, 0.3), 0px 1px 3px 1px rgba(60, 64, 67, 0.15);\n",
              "      fill: #174EA6;\n",
              "    }\n",
              "\n",
              "    [theme=dark] .colab-df-convert {\n",
              "      background-color: #3B4455;\n",
              "      fill: #D2E3FC;\n",
              "    }\n",
              "\n",
              "    [theme=dark] .colab-df-convert:hover {\n",
              "      background-color: #434B5C;\n",
              "      box-shadow: 0px 1px 3px 1px rgba(0, 0, 0, 0.15);\n",
              "      filter: drop-shadow(0px 1px 2px rgba(0, 0, 0, 0.3));\n",
              "      fill: #FFFFFF;\n",
              "    }\n",
              "  </style>\n",
              "\n",
              "      <script>\n",
              "        const buttonEl =\n",
              "          document.querySelector('#df-b23cd712-98e4-48d6-beb4-c7a658e3b965 button.colab-df-convert');\n",
              "        buttonEl.style.display =\n",
              "          google.colab.kernel.accessAllowed ? 'block' : 'none';\n",
              "\n",
              "        async function convertToInteractive(key) {\n",
              "          const element = document.querySelector('#df-b23cd712-98e4-48d6-beb4-c7a658e3b965');\n",
              "          const dataTable =\n",
              "            await google.colab.kernel.invokeFunction('convertToInteractive',\n",
              "                                                     [key], {});\n",
              "          if (!dataTable) return;\n",
              "\n",
              "          const docLinkHtml = 'Like what you see? Visit the ' +\n",
              "            '<a target=\"_blank\" href=https://colab.research.google.com/notebooks/data_table.ipynb>data table notebook</a>'\n",
              "            + ' to learn more about interactive tables.';\n",
              "          element.innerHTML = '';\n",
              "          dataTable['output_type'] = 'display_data';\n",
              "          await google.colab.output.renderOutput(dataTable, element);\n",
              "          const docLink = document.createElement('div');\n",
              "          docLink.innerHTML = docLinkHtml;\n",
              "          element.appendChild(docLink);\n",
              "        }\n",
              "      </script>\n",
              "    </div>\n",
              "  </div>\n",
              "  "
            ]
          },
          "metadata": {},
          "execution_count": 18
        }
      ]
    },
    {
      "cell_type": "code",
      "source": [
        "df.groupby('housing_median_age').sum()"
      ],
      "metadata": {
        "colab": {
          "base_uri": "https://localhost:8080/",
          "height": 1000
        },
        "id": "F8h4VkyMdwO8",
        "outputId": "a6974e63-d47b-40e3-9257-0f023147435c"
      },
      "execution_count": 20,
      "outputs": [
        {
          "output_type": "execute_result",
          "data": {
            "text/plain": [
              "                    longitude  latitude  total_rooms  total_bedrooms  \\\n",
              "housing_median_age                                                     \n",
              "1.0                   -242.93     75.88       4316.0           671.0   \n",
              "2.0                  -5832.73   1735.13     256618.0         42701.0   \n",
              "3.0                  -5464.73   1617.58     318335.0         54778.0   \n",
              "4.0                 -19127.62   5633.03     976564.0        171979.0   \n",
              "5.0                 -23639.11   6983.97     980326.0        181274.0   \n",
              "6.0                 -15340.16   4538.71     563093.0        105980.0   \n",
              "7.0                 -17993.99   5379.77     856609.0        158150.0   \n",
              "8.0                 -21248.76   6369.89     725668.0        138707.0   \n",
              "9.0                 -20523.76   6132.65     655916.0        125113.0   \n",
              "10.0                -26973.29   8109.26     795177.0        154021.0   \n",
              "11.0                -24859.71   7473.50     825990.0        159938.0   \n",
              "12.0                -22925.76   6874.84     809599.0        161058.0   \n",
              "13.0                -29732.24   8917.89     919434.0        179198.0   \n",
              "14.0                -41470.18  12459.09    1290961.0        249558.0   \n",
              "15.0                -49700.14  14925.39    1365860.0        268525.0   \n",
              "16.0                -75901.61  22660.45    1935249.0        376729.0   \n",
              "17.0                -68888.25  20682.94    1805165.0        365622.0   \n",
              "18.0                -57188.02  17178.39    1481056.0        298523.0   \n",
              "19.0                -49251.23  14767.15    1238118.0        256066.0   \n",
              "20.0                -45907.28  13840.26    1092444.0        230481.0   \n",
              "21.0                -44595.93  13335.36    1169084.0        240812.0   \n",
              "22.0                -38630.24  11554.64    1071364.0        220847.0   \n",
              "23.0                -45683.72  13644.32    1114983.0        223250.0   \n",
              "24.0                -46425.17  13767.12    1125823.0        235208.0   \n",
              "25.0                -55055.80  16351.72    1289537.0        267961.0   \n",
              "26.0                -60097.26  17860.04    1314042.0        263544.0   \n",
              "27.0                -47524.22  14175.73    1023230.0        214368.0   \n",
              "28.0                -47827.22  14228.43    1015352.0        216283.0   \n",
              "29.0                -44640.77  13250.06     929040.0        197642.0   \n",
              "30.0                -45887.97  13622.83     901190.0        196336.0   \n",
              "31.0                -45854.54  13582.46     900543.0        195000.0   \n",
              "32.0                -54715.39  16246.48    1079002.0        224198.0   \n",
              "33.0                -61249.23  18161.42    1131366.0        232694.0   \n",
              "34.0                -67583.97  19944.00    1209201.0        246639.0   \n",
              "35.0                -82509.78  24333.23    1363103.0        279690.0   \n",
              "36.0                -85251.19  25116.50    1319687.0        269616.0   \n",
              "37.0                -52205.93  15441.56     795180.0        169204.0   \n",
              "38.0                -37948.29  11233.50     587978.0        128024.0   \n",
              "39.0                -36125.71  10724.97     569853.0        124770.0   \n",
              "40.0                -29774.52   8831.10     454067.0        101651.0   \n",
              "41.0                -27698.50   8193.54     383617.0         87208.0   \n",
              "42.0                -36799.93  10891.24     539116.0        122039.0   \n",
              "43.0                -34231.14  10176.62     481594.0        109484.0   \n",
              "44.0                -35360.17  10441.80     528559.0        113176.0   \n",
              "45.0                -28122.12   8335.21     420859.0         88373.0   \n",
              "46.0                -23496.04   7003.51     340554.0         76377.0   \n",
              "47.0                -20997.38   6272.69     311580.0         67935.0   \n",
              "48.0                -16178.07   4823.58     239962.0         51219.0   \n",
              "49.0                -13361.55   4006.85     214049.0         44828.0   \n",
              "50.0                -13448.64   4020.90     197001.0         44205.0   \n",
              "51.0                 -3859.00   1162.43      59890.0         12469.0   \n",
              "52.0               -127204.95  38539.21    1965391.0        425862.0   \n",
              "\n",
              "                    population  households  median_income  median_house_value  \n",
              "housing_median_age                                                             \n",
              "1.0                     1274.0       380.0         9.5136            380500.0  \n",
              "2.0                    98256.0     34649.0       248.6376          11242503.0  \n",
              "3.0                   134995.0     47399.0       256.3126          11014702.0  \n",
              "4.0                   441133.0    155251.0       836.5649          37038711.0  \n",
              "5.0                   488939.0    164527.0       941.7596          41996106.0  \n",
              "6.0                   272353.0     96330.0       575.8432          26673103.0  \n",
              "7.0                   408528.0    142561.0       659.6346          28455204.0  \n",
              "8.0                   365876.0    126453.0       785.5119          33963303.0  \n",
              "9.0                   320968.0    112941.0       749.4922          32732803.0  \n",
              "10.0                  389015.0    137567.0       932.4770          40322105.0  \n",
              "11.0                  425166.0    144259.0       838.1699          37955905.0  \n",
              "12.0                  411939.0    148759.0       768.6159          34865403.0  \n",
              "13.0                  450070.0    162184.0      1032.1280          46828303.0  \n",
              "14.0                  653976.0    225891.0      1439.5137          66339907.0  \n",
              "15.0                  679862.0    242666.0      1665.6443          75308906.0  \n",
              "16.0                  963698.0    347956.0      2723.1710         127225112.0  \n",
              "17.0                  922200.0    332977.0      2263.2199         110460813.0  \n",
              "18.0                  768043.0    274013.0      1890.2944          91811714.0  \n",
              "19.0                  664071.0    236671.0      1579.2967          80759314.0  \n",
              "20.0                  582716.0    211614.0      1436.2439          73797111.0  \n",
              "21.0                  612817.0    222113.0      1443.6655          74942614.0  \n",
              "22.0                  569786.0    201845.0      1273.0511          68840723.0  \n",
              "23.0                  601814.0    208199.0      1514.0077          78165523.0  \n",
              "24.0                  628789.0    220309.0      1525.2792          80637119.0  \n",
              "25.0                  719313.0    252282.0      1906.6453         102847820.0  \n",
              "26.0                  732114.0    248344.0      2048.1631         104007218.0  \n",
              "27.0                  553623.0    198614.0      1532.1720          82071119.0  \n",
              "28.0                  579955.0    202951.0      1525.2705          84019925.0  \n",
              "29.0                  542229.0    184441.0      1358.9501          72999513.0  \n",
              "30.0                  547698.0    184791.0      1375.0009          77398712.0  \n",
              "31.0                  536271.0    184971.0      1390.0782          79994823.0  \n",
              "32.0                  635315.0    211531.0      1740.5827          94866227.0  \n",
              "33.0                  661647.0    221010.0      1981.2888         104612124.0  \n",
              "34.0                  697901.0    234906.0      2245.0295         120805936.0  \n",
              "35.0                  828837.0    268456.0      2705.2989         142292128.0  \n",
              "36.0                  778334.0    259554.0      2841.0739         148907632.0  \n",
              "37.0                  475512.0    161398.0      1609.9653          91336627.0  \n",
              "38.0                  353660.0    120750.0      1101.3056          62096614.0  \n",
              "39.0                  345484.0    118459.0      1025.5512          62429112.0  \n",
              "40.0                  277177.0     96307.0       854.7508          51240115.0  \n",
              "41.0                  243975.0     82225.0       730.5969          45780313.0  \n",
              "42.0                  348888.0    116518.0      1061.7032          61487614.0  \n",
              "43.0                  296886.0    103869.0       926.3245          55588613.0  \n",
              "44.0                  303235.0    106629.0      1038.0847          63613214.0  \n",
              "45.0                  236774.0     84786.0       878.7748          52514215.0  \n",
              "46.0                  205652.0     73184.0       658.1351          38815107.0  \n",
              "47.0                  180693.0     63952.0       573.7617          33261307.0  \n",
              "48.0                  130044.0     48108.0       476.0452          30329809.0  \n",
              "49.0                  111284.0     42683.0       393.7899          24494105.0  \n",
              "50.0                  110511.0     41165.0       388.9057          24921510.0  \n",
              "51.0                   30407.0     11833.0       117.4561           7835204.0  \n",
              "52.0                  983054.0    399542.0      4148.0747         291791347.0  "
            ],
            "text/html": [
              "\n",
              "  <div id=\"df-9c3e88b9-36e5-4cc1-a3f0-ae0ac48bdfa3\">\n",
              "    <div class=\"colab-df-container\">\n",
              "      <div>\n",
              "<style scoped>\n",
              "    .dataframe tbody tr th:only-of-type {\n",
              "        vertical-align: middle;\n",
              "    }\n",
              "\n",
              "    .dataframe tbody tr th {\n",
              "        vertical-align: top;\n",
              "    }\n",
              "\n",
              "    .dataframe thead th {\n",
              "        text-align: right;\n",
              "    }\n",
              "</style>\n",
              "<table border=\"1\" class=\"dataframe\">\n",
              "  <thead>\n",
              "    <tr style=\"text-align: right;\">\n",
              "      <th></th>\n",
              "      <th>longitude</th>\n",
              "      <th>latitude</th>\n",
              "      <th>total_rooms</th>\n",
              "      <th>total_bedrooms</th>\n",
              "      <th>population</th>\n",
              "      <th>households</th>\n",
              "      <th>median_income</th>\n",
              "      <th>median_house_value</th>\n",
              "    </tr>\n",
              "    <tr>\n",
              "      <th>housing_median_age</th>\n",
              "      <th></th>\n",
              "      <th></th>\n",
              "      <th></th>\n",
              "      <th></th>\n",
              "      <th></th>\n",
              "      <th></th>\n",
              "      <th></th>\n",
              "      <th></th>\n",
              "    </tr>\n",
              "  </thead>\n",
              "  <tbody>\n",
              "    <tr>\n",
              "      <th>1.0</th>\n",
              "      <td>-242.93</td>\n",
              "      <td>75.88</td>\n",
              "      <td>4316.0</td>\n",
              "      <td>671.0</td>\n",
              "      <td>1274.0</td>\n",
              "      <td>380.0</td>\n",
              "      <td>9.5136</td>\n",
              "      <td>380500.0</td>\n",
              "    </tr>\n",
              "    <tr>\n",
              "      <th>2.0</th>\n",
              "      <td>-5832.73</td>\n",
              "      <td>1735.13</td>\n",
              "      <td>256618.0</td>\n",
              "      <td>42701.0</td>\n",
              "      <td>98256.0</td>\n",
              "      <td>34649.0</td>\n",
              "      <td>248.6376</td>\n",
              "      <td>11242503.0</td>\n",
              "    </tr>\n",
              "    <tr>\n",
              "      <th>3.0</th>\n",
              "      <td>-5464.73</td>\n",
              "      <td>1617.58</td>\n",
              "      <td>318335.0</td>\n",
              "      <td>54778.0</td>\n",
              "      <td>134995.0</td>\n",
              "      <td>47399.0</td>\n",
              "      <td>256.3126</td>\n",
              "      <td>11014702.0</td>\n",
              "    </tr>\n",
              "    <tr>\n",
              "      <th>4.0</th>\n",
              "      <td>-19127.62</td>\n",
              "      <td>5633.03</td>\n",
              "      <td>976564.0</td>\n",
              "      <td>171979.0</td>\n",
              "      <td>441133.0</td>\n",
              "      <td>155251.0</td>\n",
              "      <td>836.5649</td>\n",
              "      <td>37038711.0</td>\n",
              "    </tr>\n",
              "    <tr>\n",
              "      <th>5.0</th>\n",
              "      <td>-23639.11</td>\n",
              "      <td>6983.97</td>\n",
              "      <td>980326.0</td>\n",
              "      <td>181274.0</td>\n",
              "      <td>488939.0</td>\n",
              "      <td>164527.0</td>\n",
              "      <td>941.7596</td>\n",
              "      <td>41996106.0</td>\n",
              "    </tr>\n",
              "    <tr>\n",
              "      <th>6.0</th>\n",
              "      <td>-15340.16</td>\n",
              "      <td>4538.71</td>\n",
              "      <td>563093.0</td>\n",
              "      <td>105980.0</td>\n",
              "      <td>272353.0</td>\n",
              "      <td>96330.0</td>\n",
              "      <td>575.8432</td>\n",
              "      <td>26673103.0</td>\n",
              "    </tr>\n",
              "    <tr>\n",
              "      <th>7.0</th>\n",
              "      <td>-17993.99</td>\n",
              "      <td>5379.77</td>\n",
              "      <td>856609.0</td>\n",
              "      <td>158150.0</td>\n",
              "      <td>408528.0</td>\n",
              "      <td>142561.0</td>\n",
              "      <td>659.6346</td>\n",
              "      <td>28455204.0</td>\n",
              "    </tr>\n",
              "    <tr>\n",
              "      <th>8.0</th>\n",
              "      <td>-21248.76</td>\n",
              "      <td>6369.89</td>\n",
              "      <td>725668.0</td>\n",
              "      <td>138707.0</td>\n",
              "      <td>365876.0</td>\n",
              "      <td>126453.0</td>\n",
              "      <td>785.5119</td>\n",
              "      <td>33963303.0</td>\n",
              "    </tr>\n",
              "    <tr>\n",
              "      <th>9.0</th>\n",
              "      <td>-20523.76</td>\n",
              "      <td>6132.65</td>\n",
              "      <td>655916.0</td>\n",
              "      <td>125113.0</td>\n",
              "      <td>320968.0</td>\n",
              "      <td>112941.0</td>\n",
              "      <td>749.4922</td>\n",
              "      <td>32732803.0</td>\n",
              "    </tr>\n",
              "    <tr>\n",
              "      <th>10.0</th>\n",
              "      <td>-26973.29</td>\n",
              "      <td>8109.26</td>\n",
              "      <td>795177.0</td>\n",
              "      <td>154021.0</td>\n",
              "      <td>389015.0</td>\n",
              "      <td>137567.0</td>\n",
              "      <td>932.4770</td>\n",
              "      <td>40322105.0</td>\n",
              "    </tr>\n",
              "    <tr>\n",
              "      <th>11.0</th>\n",
              "      <td>-24859.71</td>\n",
              "      <td>7473.50</td>\n",
              "      <td>825990.0</td>\n",
              "      <td>159938.0</td>\n",
              "      <td>425166.0</td>\n",
              "      <td>144259.0</td>\n",
              "      <td>838.1699</td>\n",
              "      <td>37955905.0</td>\n",
              "    </tr>\n",
              "    <tr>\n",
              "      <th>12.0</th>\n",
              "      <td>-22925.76</td>\n",
              "      <td>6874.84</td>\n",
              "      <td>809599.0</td>\n",
              "      <td>161058.0</td>\n",
              "      <td>411939.0</td>\n",
              "      <td>148759.0</td>\n",
              "      <td>768.6159</td>\n",
              "      <td>34865403.0</td>\n",
              "    </tr>\n",
              "    <tr>\n",
              "      <th>13.0</th>\n",
              "      <td>-29732.24</td>\n",
              "      <td>8917.89</td>\n",
              "      <td>919434.0</td>\n",
              "      <td>179198.0</td>\n",
              "      <td>450070.0</td>\n",
              "      <td>162184.0</td>\n",
              "      <td>1032.1280</td>\n",
              "      <td>46828303.0</td>\n",
              "    </tr>\n",
              "    <tr>\n",
              "      <th>14.0</th>\n",
              "      <td>-41470.18</td>\n",
              "      <td>12459.09</td>\n",
              "      <td>1290961.0</td>\n",
              "      <td>249558.0</td>\n",
              "      <td>653976.0</td>\n",
              "      <td>225891.0</td>\n",
              "      <td>1439.5137</td>\n",
              "      <td>66339907.0</td>\n",
              "    </tr>\n",
              "    <tr>\n",
              "      <th>15.0</th>\n",
              "      <td>-49700.14</td>\n",
              "      <td>14925.39</td>\n",
              "      <td>1365860.0</td>\n",
              "      <td>268525.0</td>\n",
              "      <td>679862.0</td>\n",
              "      <td>242666.0</td>\n",
              "      <td>1665.6443</td>\n",
              "      <td>75308906.0</td>\n",
              "    </tr>\n",
              "    <tr>\n",
              "      <th>16.0</th>\n",
              "      <td>-75901.61</td>\n",
              "      <td>22660.45</td>\n",
              "      <td>1935249.0</td>\n",
              "      <td>376729.0</td>\n",
              "      <td>963698.0</td>\n",
              "      <td>347956.0</td>\n",
              "      <td>2723.1710</td>\n",
              "      <td>127225112.0</td>\n",
              "    </tr>\n",
              "    <tr>\n",
              "      <th>17.0</th>\n",
              "      <td>-68888.25</td>\n",
              "      <td>20682.94</td>\n",
              "      <td>1805165.0</td>\n",
              "      <td>365622.0</td>\n",
              "      <td>922200.0</td>\n",
              "      <td>332977.0</td>\n",
              "      <td>2263.2199</td>\n",
              "      <td>110460813.0</td>\n",
              "    </tr>\n",
              "    <tr>\n",
              "      <th>18.0</th>\n",
              "      <td>-57188.02</td>\n",
              "      <td>17178.39</td>\n",
              "      <td>1481056.0</td>\n",
              "      <td>298523.0</td>\n",
              "      <td>768043.0</td>\n",
              "      <td>274013.0</td>\n",
              "      <td>1890.2944</td>\n",
              "      <td>91811714.0</td>\n",
              "    </tr>\n",
              "    <tr>\n",
              "      <th>19.0</th>\n",
              "      <td>-49251.23</td>\n",
              "      <td>14767.15</td>\n",
              "      <td>1238118.0</td>\n",
              "      <td>256066.0</td>\n",
              "      <td>664071.0</td>\n",
              "      <td>236671.0</td>\n",
              "      <td>1579.2967</td>\n",
              "      <td>80759314.0</td>\n",
              "    </tr>\n",
              "    <tr>\n",
              "      <th>20.0</th>\n",
              "      <td>-45907.28</td>\n",
              "      <td>13840.26</td>\n",
              "      <td>1092444.0</td>\n",
              "      <td>230481.0</td>\n",
              "      <td>582716.0</td>\n",
              "      <td>211614.0</td>\n",
              "      <td>1436.2439</td>\n",
              "      <td>73797111.0</td>\n",
              "    </tr>\n",
              "    <tr>\n",
              "      <th>21.0</th>\n",
              "      <td>-44595.93</td>\n",
              "      <td>13335.36</td>\n",
              "      <td>1169084.0</td>\n",
              "      <td>240812.0</td>\n",
              "      <td>612817.0</td>\n",
              "      <td>222113.0</td>\n",
              "      <td>1443.6655</td>\n",
              "      <td>74942614.0</td>\n",
              "    </tr>\n",
              "    <tr>\n",
              "      <th>22.0</th>\n",
              "      <td>-38630.24</td>\n",
              "      <td>11554.64</td>\n",
              "      <td>1071364.0</td>\n",
              "      <td>220847.0</td>\n",
              "      <td>569786.0</td>\n",
              "      <td>201845.0</td>\n",
              "      <td>1273.0511</td>\n",
              "      <td>68840723.0</td>\n",
              "    </tr>\n",
              "    <tr>\n",
              "      <th>23.0</th>\n",
              "      <td>-45683.72</td>\n",
              "      <td>13644.32</td>\n",
              "      <td>1114983.0</td>\n",
              "      <td>223250.0</td>\n",
              "      <td>601814.0</td>\n",
              "      <td>208199.0</td>\n",
              "      <td>1514.0077</td>\n",
              "      <td>78165523.0</td>\n",
              "    </tr>\n",
              "    <tr>\n",
              "      <th>24.0</th>\n",
              "      <td>-46425.17</td>\n",
              "      <td>13767.12</td>\n",
              "      <td>1125823.0</td>\n",
              "      <td>235208.0</td>\n",
              "      <td>628789.0</td>\n",
              "      <td>220309.0</td>\n",
              "      <td>1525.2792</td>\n",
              "      <td>80637119.0</td>\n",
              "    </tr>\n",
              "    <tr>\n",
              "      <th>25.0</th>\n",
              "      <td>-55055.80</td>\n",
              "      <td>16351.72</td>\n",
              "      <td>1289537.0</td>\n",
              "      <td>267961.0</td>\n",
              "      <td>719313.0</td>\n",
              "      <td>252282.0</td>\n",
              "      <td>1906.6453</td>\n",
              "      <td>102847820.0</td>\n",
              "    </tr>\n",
              "    <tr>\n",
              "      <th>26.0</th>\n",
              "      <td>-60097.26</td>\n",
              "      <td>17860.04</td>\n",
              "      <td>1314042.0</td>\n",
              "      <td>263544.0</td>\n",
              "      <td>732114.0</td>\n",
              "      <td>248344.0</td>\n",
              "      <td>2048.1631</td>\n",
              "      <td>104007218.0</td>\n",
              "    </tr>\n",
              "    <tr>\n",
              "      <th>27.0</th>\n",
              "      <td>-47524.22</td>\n",
              "      <td>14175.73</td>\n",
              "      <td>1023230.0</td>\n",
              "      <td>214368.0</td>\n",
              "      <td>553623.0</td>\n",
              "      <td>198614.0</td>\n",
              "      <td>1532.1720</td>\n",
              "      <td>82071119.0</td>\n",
              "    </tr>\n",
              "    <tr>\n",
              "      <th>28.0</th>\n",
              "      <td>-47827.22</td>\n",
              "      <td>14228.43</td>\n",
              "      <td>1015352.0</td>\n",
              "      <td>216283.0</td>\n",
              "      <td>579955.0</td>\n",
              "      <td>202951.0</td>\n",
              "      <td>1525.2705</td>\n",
              "      <td>84019925.0</td>\n",
              "    </tr>\n",
              "    <tr>\n",
              "      <th>29.0</th>\n",
              "      <td>-44640.77</td>\n",
              "      <td>13250.06</td>\n",
              "      <td>929040.0</td>\n",
              "      <td>197642.0</td>\n",
              "      <td>542229.0</td>\n",
              "      <td>184441.0</td>\n",
              "      <td>1358.9501</td>\n",
              "      <td>72999513.0</td>\n",
              "    </tr>\n",
              "    <tr>\n",
              "      <th>30.0</th>\n",
              "      <td>-45887.97</td>\n",
              "      <td>13622.83</td>\n",
              "      <td>901190.0</td>\n",
              "      <td>196336.0</td>\n",
              "      <td>547698.0</td>\n",
              "      <td>184791.0</td>\n",
              "      <td>1375.0009</td>\n",
              "      <td>77398712.0</td>\n",
              "    </tr>\n",
              "    <tr>\n",
              "      <th>31.0</th>\n",
              "      <td>-45854.54</td>\n",
              "      <td>13582.46</td>\n",
              "      <td>900543.0</td>\n",
              "      <td>195000.0</td>\n",
              "      <td>536271.0</td>\n",
              "      <td>184971.0</td>\n",
              "      <td>1390.0782</td>\n",
              "      <td>79994823.0</td>\n",
              "    </tr>\n",
              "    <tr>\n",
              "      <th>32.0</th>\n",
              "      <td>-54715.39</td>\n",
              "      <td>16246.48</td>\n",
              "      <td>1079002.0</td>\n",
              "      <td>224198.0</td>\n",
              "      <td>635315.0</td>\n",
              "      <td>211531.0</td>\n",
              "      <td>1740.5827</td>\n",
              "      <td>94866227.0</td>\n",
              "    </tr>\n",
              "    <tr>\n",
              "      <th>33.0</th>\n",
              "      <td>-61249.23</td>\n",
              "      <td>18161.42</td>\n",
              "      <td>1131366.0</td>\n",
              "      <td>232694.0</td>\n",
              "      <td>661647.0</td>\n",
              "      <td>221010.0</td>\n",
              "      <td>1981.2888</td>\n",
              "      <td>104612124.0</td>\n",
              "    </tr>\n",
              "    <tr>\n",
              "      <th>34.0</th>\n",
              "      <td>-67583.97</td>\n",
              "      <td>19944.00</td>\n",
              "      <td>1209201.0</td>\n",
              "      <td>246639.0</td>\n",
              "      <td>697901.0</td>\n",
              "      <td>234906.0</td>\n",
              "      <td>2245.0295</td>\n",
              "      <td>120805936.0</td>\n",
              "    </tr>\n",
              "    <tr>\n",
              "      <th>35.0</th>\n",
              "      <td>-82509.78</td>\n",
              "      <td>24333.23</td>\n",
              "      <td>1363103.0</td>\n",
              "      <td>279690.0</td>\n",
              "      <td>828837.0</td>\n",
              "      <td>268456.0</td>\n",
              "      <td>2705.2989</td>\n",
              "      <td>142292128.0</td>\n",
              "    </tr>\n",
              "    <tr>\n",
              "      <th>36.0</th>\n",
              "      <td>-85251.19</td>\n",
              "      <td>25116.50</td>\n",
              "      <td>1319687.0</td>\n",
              "      <td>269616.0</td>\n",
              "      <td>778334.0</td>\n",
              "      <td>259554.0</td>\n",
              "      <td>2841.0739</td>\n",
              "      <td>148907632.0</td>\n",
              "    </tr>\n",
              "    <tr>\n",
              "      <th>37.0</th>\n",
              "      <td>-52205.93</td>\n",
              "      <td>15441.56</td>\n",
              "      <td>795180.0</td>\n",
              "      <td>169204.0</td>\n",
              "      <td>475512.0</td>\n",
              "      <td>161398.0</td>\n",
              "      <td>1609.9653</td>\n",
              "      <td>91336627.0</td>\n",
              "    </tr>\n",
              "    <tr>\n",
              "      <th>38.0</th>\n",
              "      <td>-37948.29</td>\n",
              "      <td>11233.50</td>\n",
              "      <td>587978.0</td>\n",
              "      <td>128024.0</td>\n",
              "      <td>353660.0</td>\n",
              "      <td>120750.0</td>\n",
              "      <td>1101.3056</td>\n",
              "      <td>62096614.0</td>\n",
              "    </tr>\n",
              "    <tr>\n",
              "      <th>39.0</th>\n",
              "      <td>-36125.71</td>\n",
              "      <td>10724.97</td>\n",
              "      <td>569853.0</td>\n",
              "      <td>124770.0</td>\n",
              "      <td>345484.0</td>\n",
              "      <td>118459.0</td>\n",
              "      <td>1025.5512</td>\n",
              "      <td>62429112.0</td>\n",
              "    </tr>\n",
              "    <tr>\n",
              "      <th>40.0</th>\n",
              "      <td>-29774.52</td>\n",
              "      <td>8831.10</td>\n",
              "      <td>454067.0</td>\n",
              "      <td>101651.0</td>\n",
              "      <td>277177.0</td>\n",
              "      <td>96307.0</td>\n",
              "      <td>854.7508</td>\n",
              "      <td>51240115.0</td>\n",
              "    </tr>\n",
              "    <tr>\n",
              "      <th>41.0</th>\n",
              "      <td>-27698.50</td>\n",
              "      <td>8193.54</td>\n",
              "      <td>383617.0</td>\n",
              "      <td>87208.0</td>\n",
              "      <td>243975.0</td>\n",
              "      <td>82225.0</td>\n",
              "      <td>730.5969</td>\n",
              "      <td>45780313.0</td>\n",
              "    </tr>\n",
              "    <tr>\n",
              "      <th>42.0</th>\n",
              "      <td>-36799.93</td>\n",
              "      <td>10891.24</td>\n",
              "      <td>539116.0</td>\n",
              "      <td>122039.0</td>\n",
              "      <td>348888.0</td>\n",
              "      <td>116518.0</td>\n",
              "      <td>1061.7032</td>\n",
              "      <td>61487614.0</td>\n",
              "    </tr>\n",
              "    <tr>\n",
              "      <th>43.0</th>\n",
              "      <td>-34231.14</td>\n",
              "      <td>10176.62</td>\n",
              "      <td>481594.0</td>\n",
              "      <td>109484.0</td>\n",
              "      <td>296886.0</td>\n",
              "      <td>103869.0</td>\n",
              "      <td>926.3245</td>\n",
              "      <td>55588613.0</td>\n",
              "    </tr>\n",
              "    <tr>\n",
              "      <th>44.0</th>\n",
              "      <td>-35360.17</td>\n",
              "      <td>10441.80</td>\n",
              "      <td>528559.0</td>\n",
              "      <td>113176.0</td>\n",
              "      <td>303235.0</td>\n",
              "      <td>106629.0</td>\n",
              "      <td>1038.0847</td>\n",
              "      <td>63613214.0</td>\n",
              "    </tr>\n",
              "    <tr>\n",
              "      <th>45.0</th>\n",
              "      <td>-28122.12</td>\n",
              "      <td>8335.21</td>\n",
              "      <td>420859.0</td>\n",
              "      <td>88373.0</td>\n",
              "      <td>236774.0</td>\n",
              "      <td>84786.0</td>\n",
              "      <td>878.7748</td>\n",
              "      <td>52514215.0</td>\n",
              "    </tr>\n",
              "    <tr>\n",
              "      <th>46.0</th>\n",
              "      <td>-23496.04</td>\n",
              "      <td>7003.51</td>\n",
              "      <td>340554.0</td>\n",
              "      <td>76377.0</td>\n",
              "      <td>205652.0</td>\n",
              "      <td>73184.0</td>\n",
              "      <td>658.1351</td>\n",
              "      <td>38815107.0</td>\n",
              "    </tr>\n",
              "    <tr>\n",
              "      <th>47.0</th>\n",
              "      <td>-20997.38</td>\n",
              "      <td>6272.69</td>\n",
              "      <td>311580.0</td>\n",
              "      <td>67935.0</td>\n",
              "      <td>180693.0</td>\n",
              "      <td>63952.0</td>\n",
              "      <td>573.7617</td>\n",
              "      <td>33261307.0</td>\n",
              "    </tr>\n",
              "    <tr>\n",
              "      <th>48.0</th>\n",
              "      <td>-16178.07</td>\n",
              "      <td>4823.58</td>\n",
              "      <td>239962.0</td>\n",
              "      <td>51219.0</td>\n",
              "      <td>130044.0</td>\n",
              "      <td>48108.0</td>\n",
              "      <td>476.0452</td>\n",
              "      <td>30329809.0</td>\n",
              "    </tr>\n",
              "    <tr>\n",
              "      <th>49.0</th>\n",
              "      <td>-13361.55</td>\n",
              "      <td>4006.85</td>\n",
              "      <td>214049.0</td>\n",
              "      <td>44828.0</td>\n",
              "      <td>111284.0</td>\n",
              "      <td>42683.0</td>\n",
              "      <td>393.7899</td>\n",
              "      <td>24494105.0</td>\n",
              "    </tr>\n",
              "    <tr>\n",
              "      <th>50.0</th>\n",
              "      <td>-13448.64</td>\n",
              "      <td>4020.90</td>\n",
              "      <td>197001.0</td>\n",
              "      <td>44205.0</td>\n",
              "      <td>110511.0</td>\n",
              "      <td>41165.0</td>\n",
              "      <td>388.9057</td>\n",
              "      <td>24921510.0</td>\n",
              "    </tr>\n",
              "    <tr>\n",
              "      <th>51.0</th>\n",
              "      <td>-3859.00</td>\n",
              "      <td>1162.43</td>\n",
              "      <td>59890.0</td>\n",
              "      <td>12469.0</td>\n",
              "      <td>30407.0</td>\n",
              "      <td>11833.0</td>\n",
              "      <td>117.4561</td>\n",
              "      <td>7835204.0</td>\n",
              "    </tr>\n",
              "    <tr>\n",
              "      <th>52.0</th>\n",
              "      <td>-127204.95</td>\n",
              "      <td>38539.21</td>\n",
              "      <td>1965391.0</td>\n",
              "      <td>425862.0</td>\n",
              "      <td>983054.0</td>\n",
              "      <td>399542.0</td>\n",
              "      <td>4148.0747</td>\n",
              "      <td>291791347.0</td>\n",
              "    </tr>\n",
              "  </tbody>\n",
              "</table>\n",
              "</div>\n",
              "      <button class=\"colab-df-convert\" onclick=\"convertToInteractive('df-9c3e88b9-36e5-4cc1-a3f0-ae0ac48bdfa3')\"\n",
              "              title=\"Convert this dataframe to an interactive table.\"\n",
              "              style=\"display:none;\">\n",
              "        \n",
              "  <svg xmlns=\"http://www.w3.org/2000/svg\" height=\"24px\"viewBox=\"0 0 24 24\"\n",
              "       width=\"24px\">\n",
              "    <path d=\"M0 0h24v24H0V0z\" fill=\"none\"/>\n",
              "    <path d=\"M18.56 5.44l.94 2.06.94-2.06 2.06-.94-2.06-.94-.94-2.06-.94 2.06-2.06.94zm-11 1L8.5 8.5l.94-2.06 2.06-.94-2.06-.94L8.5 2.5l-.94 2.06-2.06.94zm10 10l.94 2.06.94-2.06 2.06-.94-2.06-.94-.94-2.06-.94 2.06-2.06.94z\"/><path d=\"M17.41 7.96l-1.37-1.37c-.4-.4-.92-.59-1.43-.59-.52 0-1.04.2-1.43.59L10.3 9.45l-7.72 7.72c-.78.78-.78 2.05 0 2.83L4 21.41c.39.39.9.59 1.41.59.51 0 1.02-.2 1.41-.59l7.78-7.78 2.81-2.81c.8-.78.8-2.07 0-2.86zM5.41 20L4 18.59l7.72-7.72 1.47 1.35L5.41 20z\"/>\n",
              "  </svg>\n",
              "      </button>\n",
              "      \n",
              "  <style>\n",
              "    .colab-df-container {\n",
              "      display:flex;\n",
              "      flex-wrap:wrap;\n",
              "      gap: 12px;\n",
              "    }\n",
              "\n",
              "    .colab-df-convert {\n",
              "      background-color: #E8F0FE;\n",
              "      border: none;\n",
              "      border-radius: 50%;\n",
              "      cursor: pointer;\n",
              "      display: none;\n",
              "      fill: #1967D2;\n",
              "      height: 32px;\n",
              "      padding: 0 0 0 0;\n",
              "      width: 32px;\n",
              "    }\n",
              "\n",
              "    .colab-df-convert:hover {\n",
              "      background-color: #E2EBFA;\n",
              "      box-shadow: 0px 1px 2px rgba(60, 64, 67, 0.3), 0px 1px 3px 1px rgba(60, 64, 67, 0.15);\n",
              "      fill: #174EA6;\n",
              "    }\n",
              "\n",
              "    [theme=dark] .colab-df-convert {\n",
              "      background-color: #3B4455;\n",
              "      fill: #D2E3FC;\n",
              "    }\n",
              "\n",
              "    [theme=dark] .colab-df-convert:hover {\n",
              "      background-color: #434B5C;\n",
              "      box-shadow: 0px 1px 3px 1px rgba(0, 0, 0, 0.15);\n",
              "      filter: drop-shadow(0px 1px 2px rgba(0, 0, 0, 0.3));\n",
              "      fill: #FFFFFF;\n",
              "    }\n",
              "  </style>\n",
              "\n",
              "      <script>\n",
              "        const buttonEl =\n",
              "          document.querySelector('#df-9c3e88b9-36e5-4cc1-a3f0-ae0ac48bdfa3 button.colab-df-convert');\n",
              "        buttonEl.style.display =\n",
              "          google.colab.kernel.accessAllowed ? 'block' : 'none';\n",
              "\n",
              "        async function convertToInteractive(key) {\n",
              "          const element = document.querySelector('#df-9c3e88b9-36e5-4cc1-a3f0-ae0ac48bdfa3');\n",
              "          const dataTable =\n",
              "            await google.colab.kernel.invokeFunction('convertToInteractive',\n",
              "                                                     [key], {});\n",
              "          if (!dataTable) return;\n",
              "\n",
              "          const docLinkHtml = 'Like what you see? Visit the ' +\n",
              "            '<a target=\"_blank\" href=https://colab.research.google.com/notebooks/data_table.ipynb>data table notebook</a>'\n",
              "            + ' to learn more about interactive tables.';\n",
              "          element.innerHTML = '';\n",
              "          dataTable['output_type'] = 'display_data';\n",
              "          await google.colab.output.renderOutput(dataTable, element);\n",
              "          const docLink = document.createElement('div');\n",
              "          docLink.innerHTML = docLinkHtml;\n",
              "          element.appendChild(docLink);\n",
              "        }\n",
              "      </script>\n",
              "    </div>\n",
              "  </div>\n",
              "  "
            ]
          },
          "metadata": {},
          "execution_count": 20
        }
      ]
    },
    {
      "cell_type": "code",
      "source": [
        "df.loc[:,['longitude','latitude']]"
      ],
      "metadata": {
        "colab": {
          "base_uri": "https://localhost:8080/",
          "height": 424
        },
        "id": "StoM1n82d9aM",
        "outputId": "8e7be7cc-3d87-45c0-d11c-d3f9c335731f"
      },
      "execution_count": 21,
      "outputs": [
        {
          "output_type": "execute_result",
          "data": {
            "text/plain": [
              "       longitude  latitude\n",
              "0        -114.31     34.19\n",
              "1        -114.47     34.40\n",
              "2        -114.56     33.69\n",
              "3        -114.57     33.64\n",
              "4        -114.57     33.57\n",
              "...          ...       ...\n",
              "16995    -124.26     40.58\n",
              "16996    -124.27     40.69\n",
              "16997    -124.30     41.84\n",
              "16998    -124.30     41.80\n",
              "16999    -124.35     40.54\n",
              "\n",
              "[17000 rows x 2 columns]"
            ],
            "text/html": [
              "\n",
              "  <div id=\"df-f4292abf-f8d0-46e9-b6f7-a0a67528b6ff\">\n",
              "    <div class=\"colab-df-container\">\n",
              "      <div>\n",
              "<style scoped>\n",
              "    .dataframe tbody tr th:only-of-type {\n",
              "        vertical-align: middle;\n",
              "    }\n",
              "\n",
              "    .dataframe tbody tr th {\n",
              "        vertical-align: top;\n",
              "    }\n",
              "\n",
              "    .dataframe thead th {\n",
              "        text-align: right;\n",
              "    }\n",
              "</style>\n",
              "<table border=\"1\" class=\"dataframe\">\n",
              "  <thead>\n",
              "    <tr style=\"text-align: right;\">\n",
              "      <th></th>\n",
              "      <th>longitude</th>\n",
              "      <th>latitude</th>\n",
              "    </tr>\n",
              "  </thead>\n",
              "  <tbody>\n",
              "    <tr>\n",
              "      <th>0</th>\n",
              "      <td>-114.31</td>\n",
              "      <td>34.19</td>\n",
              "    </tr>\n",
              "    <tr>\n",
              "      <th>1</th>\n",
              "      <td>-114.47</td>\n",
              "      <td>34.40</td>\n",
              "    </tr>\n",
              "    <tr>\n",
              "      <th>2</th>\n",
              "      <td>-114.56</td>\n",
              "      <td>33.69</td>\n",
              "    </tr>\n",
              "    <tr>\n",
              "      <th>3</th>\n",
              "      <td>-114.57</td>\n",
              "      <td>33.64</td>\n",
              "    </tr>\n",
              "    <tr>\n",
              "      <th>4</th>\n",
              "      <td>-114.57</td>\n",
              "      <td>33.57</td>\n",
              "    </tr>\n",
              "    <tr>\n",
              "      <th>...</th>\n",
              "      <td>...</td>\n",
              "      <td>...</td>\n",
              "    </tr>\n",
              "    <tr>\n",
              "      <th>16995</th>\n",
              "      <td>-124.26</td>\n",
              "      <td>40.58</td>\n",
              "    </tr>\n",
              "    <tr>\n",
              "      <th>16996</th>\n",
              "      <td>-124.27</td>\n",
              "      <td>40.69</td>\n",
              "    </tr>\n",
              "    <tr>\n",
              "      <th>16997</th>\n",
              "      <td>-124.30</td>\n",
              "      <td>41.84</td>\n",
              "    </tr>\n",
              "    <tr>\n",
              "      <th>16998</th>\n",
              "      <td>-124.30</td>\n",
              "      <td>41.80</td>\n",
              "    </tr>\n",
              "    <tr>\n",
              "      <th>16999</th>\n",
              "      <td>-124.35</td>\n",
              "      <td>40.54</td>\n",
              "    </tr>\n",
              "  </tbody>\n",
              "</table>\n",
              "<p>17000 rows × 2 columns</p>\n",
              "</div>\n",
              "      <button class=\"colab-df-convert\" onclick=\"convertToInteractive('df-f4292abf-f8d0-46e9-b6f7-a0a67528b6ff')\"\n",
              "              title=\"Convert this dataframe to an interactive table.\"\n",
              "              style=\"display:none;\">\n",
              "        \n",
              "  <svg xmlns=\"http://www.w3.org/2000/svg\" height=\"24px\"viewBox=\"0 0 24 24\"\n",
              "       width=\"24px\">\n",
              "    <path d=\"M0 0h24v24H0V0z\" fill=\"none\"/>\n",
              "    <path d=\"M18.56 5.44l.94 2.06.94-2.06 2.06-.94-2.06-.94-.94-2.06-.94 2.06-2.06.94zm-11 1L8.5 8.5l.94-2.06 2.06-.94-2.06-.94L8.5 2.5l-.94 2.06-2.06.94zm10 10l.94 2.06.94-2.06 2.06-.94-2.06-.94-.94-2.06-.94 2.06-2.06.94z\"/><path d=\"M17.41 7.96l-1.37-1.37c-.4-.4-.92-.59-1.43-.59-.52 0-1.04.2-1.43.59L10.3 9.45l-7.72 7.72c-.78.78-.78 2.05 0 2.83L4 21.41c.39.39.9.59 1.41.59.51 0 1.02-.2 1.41-.59l7.78-7.78 2.81-2.81c.8-.78.8-2.07 0-2.86zM5.41 20L4 18.59l7.72-7.72 1.47 1.35L5.41 20z\"/>\n",
              "  </svg>\n",
              "      </button>\n",
              "      \n",
              "  <style>\n",
              "    .colab-df-container {\n",
              "      display:flex;\n",
              "      flex-wrap:wrap;\n",
              "      gap: 12px;\n",
              "    }\n",
              "\n",
              "    .colab-df-convert {\n",
              "      background-color: #E8F0FE;\n",
              "      border: none;\n",
              "      border-radius: 50%;\n",
              "      cursor: pointer;\n",
              "      display: none;\n",
              "      fill: #1967D2;\n",
              "      height: 32px;\n",
              "      padding: 0 0 0 0;\n",
              "      width: 32px;\n",
              "    }\n",
              "\n",
              "    .colab-df-convert:hover {\n",
              "      background-color: #E2EBFA;\n",
              "      box-shadow: 0px 1px 2px rgba(60, 64, 67, 0.3), 0px 1px 3px 1px rgba(60, 64, 67, 0.15);\n",
              "      fill: #174EA6;\n",
              "    }\n",
              "\n",
              "    [theme=dark] .colab-df-convert {\n",
              "      background-color: #3B4455;\n",
              "      fill: #D2E3FC;\n",
              "    }\n",
              "\n",
              "    [theme=dark] .colab-df-convert:hover {\n",
              "      background-color: #434B5C;\n",
              "      box-shadow: 0px 1px 3px 1px rgba(0, 0, 0, 0.15);\n",
              "      filter: drop-shadow(0px 1px 2px rgba(0, 0, 0, 0.3));\n",
              "      fill: #FFFFFF;\n",
              "    }\n",
              "  </style>\n",
              "\n",
              "      <script>\n",
              "        const buttonEl =\n",
              "          document.querySelector('#df-f4292abf-f8d0-46e9-b6f7-a0a67528b6ff button.colab-df-convert');\n",
              "        buttonEl.style.display =\n",
              "          google.colab.kernel.accessAllowed ? 'block' : 'none';\n",
              "\n",
              "        async function convertToInteractive(key) {\n",
              "          const element = document.querySelector('#df-f4292abf-f8d0-46e9-b6f7-a0a67528b6ff');\n",
              "          const dataTable =\n",
              "            await google.colab.kernel.invokeFunction('convertToInteractive',\n",
              "                                                     [key], {});\n",
              "          if (!dataTable) return;\n",
              "\n",
              "          const docLinkHtml = 'Like what you see? Visit the ' +\n",
              "            '<a target=\"_blank\" href=https://colab.research.google.com/notebooks/data_table.ipynb>data table notebook</a>'\n",
              "            + ' to learn more about interactive tables.';\n",
              "          element.innerHTML = '';\n",
              "          dataTable['output_type'] = 'display_data';\n",
              "          await google.colab.output.renderOutput(dataTable, element);\n",
              "          const docLink = document.createElement('div');\n",
              "          docLink.innerHTML = docLinkHtml;\n",
              "          element.appendChild(docLink);\n",
              "        }\n",
              "      </script>\n",
              "    </div>\n",
              "  </div>\n",
              "  "
            ]
          },
          "metadata": {},
          "execution_count": 21
        }
      ]
    },
    {
      "cell_type": "code",
      "source": [
        "df.iloc[:3,1:3]"
      ],
      "metadata": {
        "colab": {
          "base_uri": "https://localhost:8080/",
          "height": 143
        },
        "id": "PSYhH9i5elH9",
        "outputId": "e8d85242-755f-4c27-87ca-22780ffe8502"
      },
      "execution_count": 22,
      "outputs": [
        {
          "output_type": "execute_result",
          "data": {
            "text/plain": [
              "   latitude  housing_median_age\n",
              "0     34.19                15.0\n",
              "1     34.40                19.0\n",
              "2     33.69                17.0"
            ],
            "text/html": [
              "\n",
              "  <div id=\"df-f16ffdb4-78d7-4791-8066-88e29b5e607d\">\n",
              "    <div class=\"colab-df-container\">\n",
              "      <div>\n",
              "<style scoped>\n",
              "    .dataframe tbody tr th:only-of-type {\n",
              "        vertical-align: middle;\n",
              "    }\n",
              "\n",
              "    .dataframe tbody tr th {\n",
              "        vertical-align: top;\n",
              "    }\n",
              "\n",
              "    .dataframe thead th {\n",
              "        text-align: right;\n",
              "    }\n",
              "</style>\n",
              "<table border=\"1\" class=\"dataframe\">\n",
              "  <thead>\n",
              "    <tr style=\"text-align: right;\">\n",
              "      <th></th>\n",
              "      <th>latitude</th>\n",
              "      <th>housing_median_age</th>\n",
              "    </tr>\n",
              "  </thead>\n",
              "  <tbody>\n",
              "    <tr>\n",
              "      <th>0</th>\n",
              "      <td>34.19</td>\n",
              "      <td>15.0</td>\n",
              "    </tr>\n",
              "    <tr>\n",
              "      <th>1</th>\n",
              "      <td>34.40</td>\n",
              "      <td>19.0</td>\n",
              "    </tr>\n",
              "    <tr>\n",
              "      <th>2</th>\n",
              "      <td>33.69</td>\n",
              "      <td>17.0</td>\n",
              "    </tr>\n",
              "  </tbody>\n",
              "</table>\n",
              "</div>\n",
              "      <button class=\"colab-df-convert\" onclick=\"convertToInteractive('df-f16ffdb4-78d7-4791-8066-88e29b5e607d')\"\n",
              "              title=\"Convert this dataframe to an interactive table.\"\n",
              "              style=\"display:none;\">\n",
              "        \n",
              "  <svg xmlns=\"http://www.w3.org/2000/svg\" height=\"24px\"viewBox=\"0 0 24 24\"\n",
              "       width=\"24px\">\n",
              "    <path d=\"M0 0h24v24H0V0z\" fill=\"none\"/>\n",
              "    <path d=\"M18.56 5.44l.94 2.06.94-2.06 2.06-.94-2.06-.94-.94-2.06-.94 2.06-2.06.94zm-11 1L8.5 8.5l.94-2.06 2.06-.94-2.06-.94L8.5 2.5l-.94 2.06-2.06.94zm10 10l.94 2.06.94-2.06 2.06-.94-2.06-.94-.94-2.06-.94 2.06-2.06.94z\"/><path d=\"M17.41 7.96l-1.37-1.37c-.4-.4-.92-.59-1.43-.59-.52 0-1.04.2-1.43.59L10.3 9.45l-7.72 7.72c-.78.78-.78 2.05 0 2.83L4 21.41c.39.39.9.59 1.41.59.51 0 1.02-.2 1.41-.59l7.78-7.78 2.81-2.81c.8-.78.8-2.07 0-2.86zM5.41 20L4 18.59l7.72-7.72 1.47 1.35L5.41 20z\"/>\n",
              "  </svg>\n",
              "      </button>\n",
              "      \n",
              "  <style>\n",
              "    .colab-df-container {\n",
              "      display:flex;\n",
              "      flex-wrap:wrap;\n",
              "      gap: 12px;\n",
              "    }\n",
              "\n",
              "    .colab-df-convert {\n",
              "      background-color: #E8F0FE;\n",
              "      border: none;\n",
              "      border-radius: 50%;\n",
              "      cursor: pointer;\n",
              "      display: none;\n",
              "      fill: #1967D2;\n",
              "      height: 32px;\n",
              "      padding: 0 0 0 0;\n",
              "      width: 32px;\n",
              "    }\n",
              "\n",
              "    .colab-df-convert:hover {\n",
              "      background-color: #E2EBFA;\n",
              "      box-shadow: 0px 1px 2px rgba(60, 64, 67, 0.3), 0px 1px 3px 1px rgba(60, 64, 67, 0.15);\n",
              "      fill: #174EA6;\n",
              "    }\n",
              "\n",
              "    [theme=dark] .colab-df-convert {\n",
              "      background-color: #3B4455;\n",
              "      fill: #D2E3FC;\n",
              "    }\n",
              "\n",
              "    [theme=dark] .colab-df-convert:hover {\n",
              "      background-color: #434B5C;\n",
              "      box-shadow: 0px 1px 3px 1px rgba(0, 0, 0, 0.15);\n",
              "      filter: drop-shadow(0px 1px 2px rgba(0, 0, 0, 0.3));\n",
              "      fill: #FFFFFF;\n",
              "    }\n",
              "  </style>\n",
              "\n",
              "      <script>\n",
              "        const buttonEl =\n",
              "          document.querySelector('#df-f16ffdb4-78d7-4791-8066-88e29b5e607d button.colab-df-convert');\n",
              "        buttonEl.style.display =\n",
              "          google.colab.kernel.accessAllowed ? 'block' : 'none';\n",
              "\n",
              "        async function convertToInteractive(key) {\n",
              "          const element = document.querySelector('#df-f16ffdb4-78d7-4791-8066-88e29b5e607d');\n",
              "          const dataTable =\n",
              "            await google.colab.kernel.invokeFunction('convertToInteractive',\n",
              "                                                     [key], {});\n",
              "          if (!dataTable) return;\n",
              "\n",
              "          const docLinkHtml = 'Like what you see? Visit the ' +\n",
              "            '<a target=\"_blank\" href=https://colab.research.google.com/notebooks/data_table.ipynb>data table notebook</a>'\n",
              "            + ' to learn more about interactive tables.';\n",
              "          element.innerHTML = '';\n",
              "          dataTable['output_type'] = 'display_data';\n",
              "          await google.colab.output.renderOutput(dataTable, element);\n",
              "          const docLink = document.createElement('div');\n",
              "          docLink.innerHTML = docLinkHtml;\n",
              "          element.appendChild(docLink);\n",
              "        }\n",
              "      </script>\n",
              "    </div>\n",
              "  </div>\n",
              "  "
            ]
          },
          "metadata": {},
          "execution_count": 22
        }
      ]
    }
  ]
}