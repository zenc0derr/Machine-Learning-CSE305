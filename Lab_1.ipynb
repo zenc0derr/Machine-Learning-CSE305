{
  "nbformat": 4,
  "nbformat_minor": 0,
  "metadata": {
    "colab": {
      "provenance": [],
      "authorship_tag": "ABX9TyP3hm+hnDJfqxvdelYIEpye",
      "include_colab_link": true
    },
    "kernelspec": {
      "name": "python3",
      "display_name": "Python 3"
    },
    "language_info": {
      "name": "python"
    }
  },
  "cells": [
    {
      "cell_type": "markdown",
      "metadata": {
        "id": "view-in-github",
        "colab_type": "text"
      },
      "source": [
        "<a href=\"https://colab.research.google.com/github/zenc0derr/Machine-Learning-CSE305/blob/main/Lab_1.ipynb\" target=\"_parent\"><img src=\"https://colab.research.google.com/assets/colab-badge.svg\" alt=\"Open In Colab\"/></a>"
      ]
    },
    {
      "cell_type": "markdown",
      "source": [
        "#Python Basics"
      ],
      "metadata": {
        "id": "Lp8RVDWpgz91"
      }
    },
    {
      "cell_type": "code",
      "source": [
        "print(\"Sujith\")"
      ],
      "metadata": {
        "colab": {
          "base_uri": "https://localhost:8080/"
        },
        "id": "81ikkbXxg7ZA",
        "outputId": "2046779f-8295-4ead-d51f-3213f54dedeb"
      },
      "execution_count": null,
      "outputs": [
        {
          "output_type": "stream",
          "name": "stdout",
          "text": [
            "Sujith\n"
          ]
        }
      ]
    },
    {
      "cell_type": "code",
      "source": [
        "print (2+3)\n",
        "a=20\n",
        "print (a)\n",
        "print(type(a))\n",
        "a=\"hello\"\n",
        "print (len(a))"
      ],
      "metadata": {
        "colab": {
          "base_uri": "https://localhost:8080/"
        },
        "id": "_fVVwRsxhEDz",
        "outputId": "1dfd4c1a-43e1-4622-9d2b-33109115c4d5"
      },
      "execution_count": null,
      "outputs": [
        {
          "output_type": "stream",
          "name": "stdout",
          "text": [
            "5\n",
            "20\n",
            "<class 'int'>\n",
            "5\n"
          ]
        }
      ]
    },
    {
      "cell_type": "code",
      "source": [
        "x = 3\n",
        "print (type(x)) # Prints \"<type 'int'>\"\n",
        "print (x)\n",
        " # Prints \"3\"\n",
        "print (x + 1 ) # Addition; prints \"4\"\n",
        "print (x - 1 ) # Subtraction; prints \"2\"\n",
        "print (x * 2)\n",
        " # Multiplication; prints \"6\"\n",
        "print (x ** 2) # Exponentiation; prints \"9\"\n",
        "x += 1\n",
        "print (x) # Prints \"4\"\n",
        "x *= 2\n",
        "print (x ) # Prints \"8\"\n",
        "y = 2.5\n",
        "print (type(y)) # Prints \"<type 'float'>\"\n",
        "print (y, y + 1, y * 2, y ** 2)"
      ],
      "metadata": {
        "colab": {
          "base_uri": "https://localhost:8080/"
        },
        "id": "98URup5rhMU2",
        "outputId": "abe08076-e8cc-4a3c-8328-26881a28879e"
      },
      "execution_count": null,
      "outputs": [
        {
          "output_type": "stream",
          "name": "stdout",
          "text": [
            "<class 'int'>\n",
            "3\n",
            "4\n",
            "2\n",
            "6\n",
            "9\n",
            "4\n",
            "8\n",
            "<class 'float'>\n",
            "2.5 3.5 5.0 6.25\n"
          ]
        }
      ]
    },
    {
      "cell_type": "code",
      "source": [
        "s = \"hello\"\n",
        "print (s.capitalize())\n",
        "print (s.upper())\n",
        " # Convert a string to uppercase; prints \"HELLO\"\n",
        "print (s.ljust(7,'*'))\n",
        " # Right-justify a string, padding with spaces; prints \" hello\"\n",
        "print (s.center(7,\"*\"))\n",
        " # Center a string, padding with spaces; prints \" hello \"\n",
        "print (s.replace('l', '(ell)')) # Replace all instances of one substring with another;\n",
        "# prints \"he(ell)(ell)o\"\n",
        "print( ' world  '.strip()) # Strip leading and trailing whitespace; prints \"world\""
      ],
      "metadata": {
        "colab": {
          "base_uri": "https://localhost:8080/"
        },
        "id": "Nm7LdB-zhp-2",
        "outputId": "bdb22259-e45b-4a51-ec9e-f99427712537"
      },
      "execution_count": null,
      "outputs": [
        {
          "output_type": "stream",
          "name": "stdout",
          "text": [
            "Hello\n",
            "HELLO\n",
            "hello**\n",
            "*hello*\n",
            "he(ell)(ell)o\n",
            "world\n"
          ]
        }
      ]
    },
    {
      "cell_type": "code",
      "source": [
        "a=\"JKLM\"\n",
        "for i in a:\n",
        "  print(i+\"ack\")"
      ],
      "metadata": {
        "colab": {
          "base_uri": "https://localhost:8080/"
        },
        "id": "98E5KnVDiiwk",
        "outputId": "5c5c2020-7d86-4eec-ed0c-df517cb20d75"
      },
      "execution_count": null,
      "outputs": [
        {
          "output_type": "stream",
          "name": "stdout",
          "text": [
            "Jack\n",
            "Kack\n",
            "Lack\n",
            "Mack\n"
          ]
        }
      ]
    },
    {
      "cell_type": "markdown",
      "source": [
        "# Reading Input"
      ],
      "metadata": {
        "id": "ikSAcv3pjdTN"
      }
    },
    {
      "cell_type": "code",
      "source": [
        "a=int(input(\"Enter a number: \")) #Read input from user\n",
        "#Condition\n",
        "if a>10:\n",
        "  print (\"Number is greater than 10\")\n",
        "else:\n",
        "  print (\"Number is less than 10\")"
      ],
      "metadata": {
        "colab": {
          "base_uri": "https://localhost:8080/"
        },
        "id": "HUt6AHNsimW0",
        "outputId": "1cee433e-9dd4-4ca7-f7e8-323a4b985f0a"
      },
      "execution_count": null,
      "outputs": [
        {
          "output_type": "stream",
          "name": "stdout",
          "text": [
            "Enter a number: 100\n",
            "Number is greater than 10\n"
          ]
        }
      ]
    },
    {
      "cell_type": "code",
      "source": [
        "a=10\n",
        "if a>5:\n",
        "  print (\"a>5\")\n",
        "elif a>4:\n",
        "  print(\"a>4\")\n",
        "else:\n",
        "  print (\"Not matching\")\n",
        "range(10)\n",
        "for i in range(10):\n",
        "  print (i)"
      ],
      "metadata": {
        "colab": {
          "base_uri": "https://localhost:8080/"
        },
        "id": "FzlDW-ZTjBeM",
        "outputId": "7abf46aa-1c04-4ba5-848d-96890d655d7f"
      },
      "execution_count": null,
      "outputs": [
        {
          "output_type": "stream",
          "name": "stdout",
          "text": [
            "a>5\n",
            "0\n",
            "1\n",
            "2\n",
            "3\n",
            "4\n",
            "5\n",
            "6\n",
            "7\n",
            "8\n",
            "9\n"
          ]
        }
      ]
    },
    {
      "cell_type": "markdown",
      "source": [
        "# Functions"
      ],
      "metadata": {
        "id": "YAIxH9BtjlP6"
      }
    },
    {
      "cell_type": "code",
      "source": [
        "def my_fun(x,y):\n",
        "  print(x+y)\n",
        "my_fun(10,20)\n",
        "my_fun(\"10\",\"20\")"
      ],
      "metadata": {
        "colab": {
          "base_uri": "https://localhost:8080/"
        },
        "id": "6kENa7bajkqv",
        "outputId": "e7b4efe0-a132-461f-e883-c68027ecc66e"
      },
      "execution_count": null,
      "outputs": [
        {
          "output_type": "stream",
          "name": "stdout",
          "text": [
            "30\n",
            "1020\n"
          ]
        }
      ]
    },
    {
      "cell_type": "code",
      "source": [
        "a=[] #Null list\n",
        "a=[1,2,3,4.5,\"Hello\",\"50\"]#is a list\n",
        "print (type(a))\n",
        "print (len(a))\n",
        "print( a[0])\n",
        "print (a[-1])\n",
        "print (a[2:5])\n",
        "a.append(100) #add new element at the end of list\n",
        "print (a)\n",
        "a.remove(2)#Remove second element"
      ],
      "metadata": {
        "colab": {
          "base_uri": "https://localhost:8080/"
        },
        "id": "UhPnCgxJkfO-",
        "outputId": "51bfa5a6-1ba9-4a79-ae21-958743c877c9"
      },
      "execution_count": null,
      "outputs": [
        {
          "output_type": "stream",
          "name": "stdout",
          "text": [
            "<class 'list'>\n",
            "6\n",
            "1\n",
            "50\n",
            "[3, 4.5, 'Hello']\n",
            "[1, 2, 3, 4.5, 'Hello', '50', 100]\n"
          ]
        }
      ]
    },
    {
      "cell_type": "code",
      "source": [
        "a.append(\"append value\")\n",
        "print (a)\n",
        "a.insert(3,\"insert value\")\n",
        "print (a)"
      ],
      "metadata": {
        "colab": {
          "base_uri": "https://localhost:8080/"
        },
        "id": "MH74q98zkv6Q",
        "outputId": "d1fe8ba6-7055-493c-c635-0cf8127384dd"
      },
      "execution_count": null,
      "outputs": [
        {
          "output_type": "stream",
          "name": "stdout",
          "text": [
            "[1, 3, 4.5, 'Hello', '50', 100, 'append value']\n",
            "[1, 3, 4.5, 'insert value', 'Hello', '50', 100, 'append value']\n"
          ]
        }
      ]
    },
    {
      "cell_type": "code",
      "source": [
        "nums = [0, 1, 2, 3, 4]\n",
        "even_squares=[]\n",
        "for x in nums:\n",
        "  if x%2==0:\n",
        "    even_squares.append(x**2)\n",
        "print( even_squares)"
      ],
      "metadata": {
        "colab": {
          "base_uri": "https://localhost:8080/"
        },
        "id": "955QbCjJkwiB",
        "outputId": "fa859062-c418-475a-a21a-e87317805dbd"
      },
      "execution_count": null,
      "outputs": [
        {
          "output_type": "stream",
          "name": "stdout",
          "text": [
            "[0, 4, 16]\n"
          ]
        }
      ]
    },
    {
      "cell_type": "code",
      "source": [
        "even_squares = [x ** 2 for x in nums if x % 2 == 0]\n",
        "print (even_squares ) # Prints \"[0, 4, 16]\""
      ],
      "metadata": {
        "colab": {
          "base_uri": "https://localhost:8080/"
        },
        "id": "q_e1acAZlPO5",
        "outputId": "7d60720b-b5fa-4dee-cbc5-37b21a72445e"
      },
      "execution_count": null,
      "outputs": [
        {
          "output_type": "stream",
          "name": "stdout",
          "text": [
            "[0, 4, 16]\n"
          ]
        }
      ]
    },
    {
      "cell_type": "code",
      "source": [
        "a=list(range(1,25))\n",
        "print(a[2:5])\n",
        "print(a[-1])\n",
        "print(a[1:5:2])\n",
        "print(a[-3:-1])\n",
        "print(a[:])\n",
        "print(a[::])\n",
        "print(a[::2])\n",
        "print(a[::-1])"
      ],
      "metadata": {
        "colab": {
          "base_uri": "https://localhost:8080/"
        },
        "id": "JoyLaaSflYGo",
        "outputId": "b707cf2b-1f40-4740-9406-433c9fba66df"
      },
      "execution_count": null,
      "outputs": [
        {
          "output_type": "stream",
          "name": "stdout",
          "text": [
            "[3, 4, 5]\n",
            "24\n",
            "[2, 4]\n",
            "[22, 23]\n",
            "[1, 2, 3, 4, 5, 6, 7, 8, 9, 10, 11, 12, 13, 14, 15, 16, 17, 18, 19, 20, 21, 22, 23, 24]\n",
            "[1, 2, 3, 4, 5, 6, 7, 8, 9, 10, 11, 12, 13, 14, 15, 16, 17, 18, 19, 20, 21, 22, 23, 24]\n",
            "[1, 3, 5, 7, 9, 11, 13, 15, 17, 19, 21, 23]\n",
            "[24, 23, 22, 21, 20, 19, 18, 17, 16, 15, 14, 13, 12, 11, 10, 9, 8, 7, 6, 5, 4, 3, 2, 1]\n"
          ]
        }
      ]
    },
    {
      "cell_type": "markdown",
      "source": [
        "# Set"
      ],
      "metadata": {
        "id": "ZxLMYJxkmZvi"
      }
    },
    {
      "cell_type": "code",
      "source": [
        "animals = {'cat', 'dog'}\n",
        "print ('cat' in animals)\n",
        " # Check if an element is in a set; prints \"True\"\n",
        "print ('fish' in animals ) # prints \"False\"\n",
        "animals.add('fish')\n",
        " # Add an element to a set\n",
        "print ('fish' in animals) # Prints \"True\"\n",
        "print (len(animals))\n",
        " # Number of elements in a set; prints \"3\"\n",
        "animals.add('cat')\n",
        "print (len(animals) )\n",
        "animals.remove('cat')\n",
        "print (len(animals) )\n",
        "# Adding an element that is already in the set does nothing\n",
        "# Prints \"3\"\n",
        "# Remove an element from a set\n",
        "# Prints \"2\""
      ],
      "metadata": {
        "colab": {
          "base_uri": "https://localhost:8080/"
        },
        "id": "KWK9ULCgl6Df",
        "outputId": "9a877827-52ad-4e98-b048-c6a1ff370fa9"
      },
      "execution_count": null,
      "outputs": [
        {
          "output_type": "stream",
          "name": "stdout",
          "text": [
            "True\n",
            "False\n",
            "True\n",
            "3\n",
            "3\n",
            "2\n"
          ]
        }
      ]
    },
    {
      "cell_type": "markdown",
      "source": [
        "# Dictionary"
      ],
      "metadata": {
        "id": "STrFI1zimxhb"
      }
    },
    {
      "cell_type": "code",
      "source": [
        "pos={}#empty dictionary\n",
        "print (type(dict))\n",
        "pos[\"Man\"]=\"Noun\"\n",
        "pos[\"Play\"]=\"Verb\"\n",
        "pos[\"Good\"]=\"Adjective\"\n",
        "pos[\"Apple\"]=\"Noun\"\n",
        "pos[\"Cricket\"]=\"Noun\"\n",
        "pos[\"Cry\"]=\"Verb\"\n",
        "print (pos)\n",
        "#Print all the nouns in the dictionary\n",
        "for w in pos:\n",
        "  if(pos[w]==\"Noun\"):\n",
        "    print (w) "
      ],
      "metadata": {
        "colab": {
          "base_uri": "https://localhost:8080/"
        },
        "id": "diDJL0KOmtzD",
        "outputId": "c29eb4d5-7f46-4508-ded7-d27dc5730593"
      },
      "execution_count": null,
      "outputs": [
        {
          "output_type": "stream",
          "name": "stdout",
          "text": [
            "<class 'type'>\n",
            "{'Man': 'Noun', 'Play': 'Verb', 'Good': 'Adjective', 'Apple': 'Noun', 'Cricket': 'Noun', 'Cry': 'Verb'}\n",
            "Man\n",
            "Apple\n",
            "Cricket\n"
          ]
        }
      ]
    },
    {
      "cell_type": "markdown",
      "source": [
        "# Tuple"
      ],
      "metadata": {
        "id": "2L3KJWJQnhw9"
      }
    },
    {
      "cell_type": "code",
      "source": [
        "d = {(x, x + 1): x for x in range(10)} # Create a dictionary with tuple keys\n",
        "t = (5, 6)\n",
        " # Create a tuple\n",
        "print (type(t))\n",
        " # Prints \"<type 'tuple'>\"\n",
        "print (d[t] )\n",
        " # Prints \"5\"\n",
        "print (d[(1, 2)]) # Prints \"1\""
      ],
      "metadata": {
        "colab": {
          "base_uri": "https://localhost:8080/"
        },
        "id": "k20UILZXnjOZ",
        "outputId": "21a59a5b-25a4-4b7d-ea66-ea228910e975"
      },
      "execution_count": null,
      "outputs": [
        {
          "output_type": "stream",
          "name": "stdout",
          "text": [
            "<class 'tuple'>\n",
            "5\n",
            "1\n"
          ]
        }
      ]
    },
    {
      "cell_type": "markdown",
      "source": [
        "# File"
      ],
      "metadata": {
        "id": "pLlQNfaYoa7x"
      }
    },
    {
      "cell_type": "code",
      "source": [
        "file=open(\"newfile.txt\",\"a\")\n",
        "print (type(file))\n",
        "a=\"\\nThis will be written to the file.\"\n",
        "file.write(a)\n",
        "file.close()"
      ],
      "metadata": {
        "colab": {
          "base_uri": "https://localhost:8080/"
        },
        "id": "fVKaV2tCodqf",
        "outputId": "5cc76ddd-28da-4525-df14-8783da3e2ff7"
      },
      "execution_count": 48,
      "outputs": [
        {
          "output_type": "stream",
          "name": "stdout",
          "text": [
            "<class '_io.TextIOWrapper'>\n"
          ]
        }
      ]
    },
    {
      "cell_type": "code",
      "source": [
        "fread=open(\"newfile.txt\")\n",
        "text=fread.readlines()\n",
        "# words=text.split()\n",
        "print( text)\n",
        "# print (sorted(words))"
      ],
      "metadata": {
        "colab": {
          "base_uri": "https://localhost:8080/"
        },
        "id": "YVuKNzm_pjlI",
        "outputId": "f22643c9-b4cf-4efa-ef10-a10073ff0d64"
      },
      "execution_count": 49,
      "outputs": [
        {
          "output_type": "stream",
          "name": "stdout",
          "text": [
            "['This will be written to the file.This will be written to the file.\\n', 'This will be written to the file.']\n"
          ]
        }
      ]
    }
  ]
}